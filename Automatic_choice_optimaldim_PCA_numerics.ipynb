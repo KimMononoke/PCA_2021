{
 "cells": [
  {
   "cell_type": "markdown",
   "metadata": {},
   "source": [
    "\n",
    "<font color=blue>\n",
    "    <h1> Comparative study of dimensional reduction methods in PCA </h1>\n",
    "</font>\n",
    "<h2>Serena Di Giorgio</h2>\n",
    "\n",
    "based on the work\n",
    "\n",
    "Mera, Bruno, Mateus, Paulo, and Carvalho, Alexandra M. *Model complexity in statistical manifolds: the role of curvature*. 2021\n"
   ]
  },
  {
   "cell_type": "markdown",
   "metadata": {},
   "source": [
    "The aim of the present notebook is numerically-testing the **Geometric-Complexity algorithm** (GC_alg) in [Mera&al2021] for automatic choice of the optimal dimensionality for Principal Component Analysis (PCA).\n",
    "\n",
    "- *The first part is dedicated to data-preprocessing*.\n",
    "\n",
    "After a brief introduction to notation and convention used for PCA, we start by defining a few function for pre-processing the data, assumed to be obtained by a multivariate source. In particular, we introduce an euristic way of determining the precision-parameter ```s``` that is going to play an essential role in the correction brought by the GC_alg with respect to pre-existing algorithms.\n",
    "\n",
    "- *In the second part is dedicated to algorithm-implementation*.\n",
    "\n",
    "We first introduce the *scree-plot* for PCA-visualisation, then the main two pre-existing algorithms for dimensionality-reduction, Minka's algorithm and Tavory's algorithm, and finally new Geometric-Complexity algorithm.\n",
    "\n",
    "- *The third part is dedicated to data-analysis/algorithm testing*.\n",
    "\n",
    "In the last part, after introducing some extra function for algorithm testing with respect to the relevant parameters -- data-precision ```s```, data-length ```N``` and number of features ```d``` -- we proceed with the tests on real datasets.\n",
    "\n",
    "- *Finally, we draw some conclusions.*"
   ]
  },
  {
   "cell_type": "markdown",
   "metadata": {},
   "source": [
    "<a id='TC'></a>\n",
    "## <font color=grey> Table of content</font>\n",
    "\n",
    "- [Notation](#notation)\n",
    "\n",
    "\n",
    "- [Data pre-processing](#data_preprocessing)\n",
    "    - [Zero mean data](#zero_mean)\n",
    "    - [Data description length: the s parameter](#data_precision)\n",
    "    \n",
    "- [Data analysis: PCA](#data_analysis)\n",
    "    - [Scree plot knee and Minka's k](#scree_plot_knee)\n",
    "    - [NML - A.Tavory](#Tavory)\n",
    "    - [Geometric Complexity](#optimal_k)\n",
    "\n",
    "- [Tests](#tests)\n",
    "    - [Test-functions](#functions_test)\n",
    "    - [Test-data](#test_data)\n",
    "\n",
    "- [Comments and future-work](#conclusion)\n",
    "\n",
    "\n",
    "- [Appendix](#appendix)\n",
    "    - [Data processing routine](#routine)\n",
    "\n",
    "\n",
    "- [List of functions](#list_functions)\n",
    "    \n",
    "- [References](#References)"
   ]
  },
  {
   "cell_type": "code",
   "execution_count": 1,
   "metadata": {},
   "outputs": [
    {
     "name": "stdout",
     "output_type": "stream",
     "text": [
      "Populating the interactive namespace from numpy and matplotlib\n"
     ]
    }
   ],
   "source": [
    "%pylab inline"
   ]
  },
  {
   "cell_type": "code",
   "execution_count": 2,
   "metadata": {},
   "outputs": [
    {
     "name": "stdout",
     "output_type": "stream",
     "text": [
      "Automatically created module for IPython interactive environment\n"
     ]
    }
   ],
   "source": [
    "print(__doc__)\n",
    "\n",
    "# Authors: Gael Varoquaux\n",
    "#          Jaques Grobler\n",
    "#          Kevin Hughes\n",
    "# License: BSD 3 clause\n",
    "\n",
    "from sklearn.decomposition import PCA\n",
    "from sklearn.covariance import EmpiricalCovariance\n",
    "from sklearn.preprocessing import scale\n",
    "from math import gamma\n",
    "\n",
    "\n",
    "from mpl_toolkits.mplot3d import Axes3D\n",
    "import numpy as np\n",
    "import matplotlib.pyplot as plt\n",
    "from scipy import stats\n",
    "from scipy.special import loggamma as lgm\n",
    "from numpy import genfromtxt\n",
    "from tabulate import tabulate\n",
    "\n",
    "import kneed\n"
   ]
  },
  {
   "cell_type": "markdown",
   "metadata": {},
   "source": [
    "<a id=notation></a>\n",
    "    <h1> <font color=grey> Notation </font>[$\\diamond$](#TC)</h1>\n",
    "    \n",
    "We assume the dataset $\\mathbb{X}$ to be in a matrix-form whose rows and columns store respectively the instances and the different features associated with the experiment. In particular $\\mathbb{X}$ is a $Nxd$ matrix where:\n",
    "\n",
    "- $d\\geq1$ is the integer indicating the number of parameters;\n",
    "- $N\\gg d$ is the integer representing the number of instances.\n",
    "\n",
    "Storing the data in ```ndarrays```, we have ```shape(data)=(N,d)```.\n",
    "\n",
    "The covariance matrix is the $d\\times d$ positive-semidefinite matrix s.t. $\\Sigma=\\mathbb{X}^T\\mathbb{X}$."
   ]
  },
  {
   "cell_type": "markdown",
   "metadata": {},
   "source": [
    "<a id=data_preprocessing></a>\n",
    "    <h1>Data pre-processing [$\\diamond$](#TC)</h1>\n",
    "<hr>\n",
    "<hr>"
   ]
  },
  {
   "cell_type": "markdown",
   "metadata": {},
   "source": [
    "<a id='zero_mean'></a>\n",
    "### Zero mean data [$\\tiny\\triangle$](#data_preprocessing)"
   ]
  },
  {
   "cell_type": "code",
   "execution_count": 3,
   "metadata": {},
   "outputs": [],
   "source": [
    "def zeromean(data):\n",
    "    col=np.size(data,1)\n",
    "    newdata=data\n",
    "    for i in range(col):\n",
    "        mean=np.mean(data[:,i])\n",
    "        newdata[:,i]=data[:,i]-mean\n",
    "    return newdata"
   ]
  },
  {
   "cell_type": "markdown",
   "metadata": {},
   "source": [
    "<a id='data_precision'></a>\n",
    "### Data description length: the s parameter [$\\tiny\\triangle$](#data_preprocessing)\n",
    "\n",
    "The Geometric-Complexity algorithm strongly depends on the empirical data-precision, encoded in the parameter $s$, defined in [[Mera&al.2020]](#Paulo) as *the smallest integer that satisfies* \n",
    "\n",
    "$$\\mathbb{1}_d\\leq\\Sigma\\leq 2^{2s}\\,\\mathbb{1}_d.$$\n",
    "\n",
    "<p>The latter is an operatorial inequality where $\\mathbb{1}_d$ indicates the identical operator $d\\times d$. \n",
    "The first part requires the covariance matrix to be rescaled s.t. its eigenvalues are multiple of a fundamental precision. We rescale the data matrix considering as fundamental precision $10^{-n}$ where $n$ is the number of significative digits for every feature. Indicating with $\\Sigma_{\\,\\text{int}}$ the integers-matrix obtained from the rescaled data, naturally $\\Sigma_{\\,\\text{int}}\\geq\\mathbb{1}_d$, i.e. $(\\Sigma_{\\,\\text{int}}-\\mathbb{1}_d)$ is positive semidefinite.\n",
    "\n",
    "The second part of the inequality defines $s$ as the smallest integer s.t. the matrix $(\\Sigma_{\\,\\text{int}}- 2^{2s}\\,\\mathbb{1}_d)$ is positive semidefinite. Indicating with $\\sigma_1$ the largest eigenvalue of $\\Sigma_{\\,\\text{int}}$, we get:\n",
    "\n",
    "$$s\\geq\\,\\frac{1}{2}\\left(\\log_2\\sigma_1\\right)\\quad \\Rightarrow\\quad s=\\ulcorner\\frac{1}{2}\\,\\log_2\\sigma_1\\urcorner.$$\n",
    "</p>\n",
    "\n",
    "<p> We can obtain a scalar inequality also by considering the trace of the operator $d\\leq\\Sigma\\leq d\\,2^{2s}$, which results in an averaged $s$:\n",
    "\n",
    "$$s\\geq\\,\\frac{1}{2}\\left(\\log_2\\mbox{Tr}\\,\\Sigma_{\\,\\text{int}}-\\log_2d\\right)\\quad \\Rightarrow\\quad s=\\ulcorner\\frac{1}{2}\\,\\left(\\log_2\\mbox{Tr}\\,\\Sigma_{\\,\\text{int}}-\\log_2d\\right)\\urcorner.$$\n",
    "\n",
    "The Geometric-Complexity algorithm gives an higher weight to the model description with respect to the other algorithms considered. Maybe considering an averaged $s$ can avoid dimensionality underestimation when the dataset is small.\n",
    "</p>\n",
    "\n",
    "\n",
    "\n",
    "$\\quad$The functions defined below respectively:\n",
    "\n",
    "- ```data_int()``` rescales the dataset so that the entries are integers multiple of some fundamental precision;\n",
    "- ```precision()``` compute the parameter $s$ from the data-matrix -- no need to rescale it before -- when its features have same precision."
   ]
  },
  {
   "cell_type": "code",
   "execution_count": 4,
   "metadata": {
    "scrolled": true
   },
   "outputs": [
    {
     "name": "stdout",
     "output_type": "stream",
     "text": [
      "Machine parameters for float64\n",
      "---------------------------------------------------------------\n",
      "precision =  15   resolution = 1.0000000000000001e-15\n",
      "machep =    -52   eps =        2.2204460492503131e-16\n",
      "negep =     -53   epsneg =     1.1102230246251565e-16\n",
      "minexp =  -1022   tiny =       2.2250738585072014e-308\n",
      "maxexp =   1024   max =        1.7976931348623157e+308\n",
      "nexp =       11   min =        -max\n",
      "---------------------------------------------------------------\n",
      "\n"
     ]
    }
   ],
   "source": [
    "print(np.finfo(numpy.float))"
   ]
  },
  {
   "cell_type": "code",
   "execution_count": 5,
   "metadata": {},
   "outputs": [],
   "source": [
    "def data_int(data,order):\n",
    "    \n",
    "    '''INPUT: np.array data-matrix Nxd, integer data-order (if data entry 0.abc,order=1e3)\n",
    "    OUTPUT: np.array of integers, equal to data-matrix*order.'''\n",
    "    \n",
    "    data1=data[:]*order\n",
    "    for i in range(shape(data1)[0]):\n",
    "        for j in range(shape(data1)[1]):\n",
    "            data1[i][j]=int(data1[i][j])\n",
    "    return data1"
   ]
  },
  {
   "cell_type": "code",
   "execution_count": 6,
   "metadata": {},
   "outputs": [],
   "source": [
    "def precision(data,sign_digits,b=0):\n",
    "    \n",
    "    '''INPUT: data-matrix Nxd and an integer=max[number of data-entry-digits].\n",
    "    OUTPUT: integer equal to the minimum number of bits for the covariance-matrix description -- the s parameter.\n",
    "    Options: the function computes the output as the number of bits required for storing the trace of the rescaled \n",
    "    covariance matrix -- b=0 (default). Setting b=1, the function computes the output as the number of bits required \n",
    "    for storing tha largest eigenvalue of the rescaled covariance matrix.'''\n",
    "    \n",
    "    data1=data[:]*(10**sign_digits)\n",
    "    for i in range(shape(data1)[0]):\n",
    "        for j in range(shape(data1)[1]):\n",
    "            data1[i][j]=int(data1[i][j])\n",
    "    cov=data1.T@data1\n",
    "    if b==1:\n",
    "        eig=np.linalg.eig(cov)[0]\n",
    "        eig.sort\n",
    "        A=eig[0]\n",
    "    else:\n",
    "        d=shape(data)[1]\n",
    "        A=np.trace(cov)/d\n",
    "    return int((np.log(A))/(2*np.log(2)))+1 ## 1/2 of the length of A*n1 in binary "
   ]
  },
  {
   "cell_type": "markdown",
   "metadata": {},
   "source": [
    "<a id='partial_dataset'></a>\n",
    "### Test dataset  [$\\tiny\\triangle$](#data_preprocessing)\n",
    "\n",
    "The function below creates ad-hoc datasets from a given one for algorithm-testing: given a data-matrix, the function keeps the first *k* columns/features and replaces the last *d-k* ones with linear combinations of the first *k* ones with an additional noise $\\mathcal{N}(0,\\tau)$. So the right choice for dimensionality reduction on the resulting dataset is exactly *k*. Code adapted from [[A.Tavory2019]](#tavory).\n",
    "<p></p>\n",
    "<center><code>data_Tavory (data, k, tau)</code> = <code>data[:k]</code> + $\\sum_{i=1}^{k}$tau$_i$*<code>data[i]</code>, with tau$_i$ sampled from $\\mathcal{N}(0,\\tau)$</center>"
   ]
  },
  {
   "cell_type": "code",
   "execution_count": 7,
   "metadata": {
    "scrolled": true
   },
   "outputs": [],
   "source": [
    "def data_Tavory(data,k,tau):\n",
    "    \n",
    "    '''INPUT data-matrix Nxd, an integer k<d and a noise term tau, \n",
    "    OUTPUT data-matrix whose first k columns are the original one, \n",
    "    the last d-k are a random linear combination of the first k with added gaussian noise -- 0-mean and var=tau.'''\n",
    "    \n",
    "    assert k<shape(data)[1]\n",
    "    data=zeromean(data)\n",
    "    ldata=data[:,:k]\n",
    "    m = data.shape[1]\n",
    "    rdata = np.dot(ldata,np.random.randn(k, m - k)) + tau * np.random.randn(shape(data)[0], m - k)\n",
    "    return np.concatenate([ldata.T, rdata.T]).T"
   ]
  },
  {
   "cell_type": "markdown",
   "metadata": {},
   "source": [
    "<a id=data_analysis></a>\n",
    "    <h1>Data analysis: PCA [$\\diamond$](#TC)</h1>\n",
    "<hr>\n",
    "<hr>\n",
    "\n",
    "- [Minka and Scree-plot knee](#scree_plot_knee)\n",
    "- [Tavory NML](#Tavory)\n",
    "- [Geometric complexity](#optimal_k)"
   ]
  },
  {
   "cell_type": "markdown",
   "metadata": {},
   "source": [
    "In Python's library Sklearn, Principal Component analysis is implemented by the function [```PCA()```](https://scikit-learn.org/stable/modules/generated/sklearn.decomposition.PCA.html). \n",
    "\n",
    "In multivariate statistics, data'a **singular values** -- the eigenvalues of factors or principal components -- are used to be visualized with a line plot called ***scree plot***."
   ]
  },
  {
   "cell_type": "code",
   "execution_count": 8,
   "metadata": {},
   "outputs": [],
   "source": [
    "def scree_plot(data):\n",
    "    \n",
    "    '''Line plot of data's Singular Values'''\n",
    "    \n",
    "    data=zeromean(data)\n",
    "    data_pca=PCA().fit(X=data)\n",
    "    plot(data_pca.explained_variance_ratio_, '-.', label='Var_ratio', color='blue');\n",
    "    legend();\n",
    "    xlabel('Number of factors').set_color('black');\n",
    "    ylabel('Explained variance ratio').set_color('black');"
   ]
  },
  {
   "cell_type": "markdown",
   "metadata": {},
   "source": [
    "- **Finding knee in the Scree plot**\n",
    "    In the Scree Plots above, there seems to be a ''bend\", that can indicate the optimal number of components. Using the Kneedle algorithm (see [[Satopaa2011]](#kneedle)) for finding \"bends\" in plots, we get a possible estimation of optimal number of components, as a function of the dataset lengtht. We use the Python repository [kneed](https://pypi.org/project/kneed/) for implementing the algorithm.\n",
    "\n",
    "As A.Tavory underlines, this method is known for its tendency to find a lower number of components than the true one (see [27] in [[A.Tavory2019]](#tavory))."
   ]
  },
  {
   "cell_type": "code",
   "execution_count": 9,
   "metadata": {},
   "outputs": [],
   "source": [
    "def find_knee(pca):\n",
    "    '''Returns the knee of the scree plot of the explained_variance_ratio_ components of the PCA'''\n",
    "    yv = pca.explained_variance_ratio_\n",
    "    xv = np.linspace(1, len(yv), len(yv))\n",
    "    return kneed.KneeLocator(xv, yv, S=1.0, curve='convex', direction='decreasing').knee"
   ]
  },
  {
   "cell_type": "markdown",
   "metadata": {},
   "source": [
    "<a id='Minka_f'></a>\n",
    "- **Minka's optimal dimensionality**\n",
    "    When selecting ```PCA(mle)```Minka's algorithm described in [[Minka2000]](#Minka) is used for selecting the optimal dimensionality reduction. By interpreting PCA as density estimation, Minka'a algorithm estimates the true dimensionality of the data using Bayesian model selection -- provided enough data. The algorithm assumes a Gaussian prior."
   ]
  },
  {
   "cell_type": "code",
   "execution_count": 10,
   "metadata": {},
   "outputs": [],
   "source": [
    "def Minka_optk(data):\n",
    "    data=zeromean(data)\n",
    "    pca_mle=PCA('mle').fit(data)\n",
    "    print('Minka Complexity',pca_mle.components_.shape[0])"
   ]
  },
  {
   "cell_type": "markdown",
   "metadata": {},
   "source": [
    "<a id='Tavory'></a>\n",
    "## NML - Tavory [$\\tiny\\triangle$](#data_analysis)\n",
    "\n",
    "In [[Tavory2019]](#tavory) the author applies the MDL (Minimum Description Length) principle -- in its modern definition NML (normalized) -- to the PCA problem of computing the optimal data dimensionality. No prior probability distribution is required by the criteria, so Tavory-NML algorithm should provide the optimal dimensionality reduction also for non Gaussian distributed data.\n",
    "\n",
    "The ```nml_optk()``` function implements Tavory-NML algorithm. The code has been adapted from the numerics published in the same paper."
   ]
  },
  {
   "cell_type": "code",
   "execution_count": 11,
   "metadata": {},
   "outputs": [],
   "source": [
    "def nml_optk(data):\n",
    "    \n",
    "    '''INPUT: data matrix NXd\n",
    "    OUTPUT: optimal dimensionality reduction -- integer k<=d -- via Normalized-Maximum-Likelihood algorithm by A.Tavory'''\n",
    "    \n",
    "    data=zeromean(data)\n",
    "    n, m = shape(data)[0], shape(data)[1]\n",
    "    optdM=-1;\n",
    "    optscoreM=np.Infinity\n",
    "    p = PCA().fit(X=data)\n",
    "    log_sigma=np.log(np.dot(data.T, data).sum())\n",
    "    \n",
    "    for k in range(1,m-1):\n",
    "        tau=sum(p.explained_variance_[k:])\n",
    "        s=(n * m - k * m) * np.log(tau)\n",
    "        s=s+k*m*log_sigma\n",
    "        s=s+(m * n - k * n - 1) * np.log( m * n / (m * n - k * m))\n",
    "        minus=(m * k + 1) * np.log(m * k)\n",
    "        s=s-minus\n",
    "        smax=s+m * k * np.log(m / np.sqrt(np.e)) + (k - 1) * np.log(1 / m / np.pi)\n",
    "        if(smax<optscoreM):\n",
    "            optdM=k; \n",
    "            optscoreM=smax\n",
    "            \n",
    "    return optdM"
   ]
  },
  {
   "cell_type": "markdown",
   "metadata": {},
   "source": [
    "<a id='optimal_k'></a>\n",
    "## Geometric Complexity [$\\tiny\\triangle$](#data_analysis)"
   ]
  },
  {
   "cell_type": "markdown",
   "metadata": {},
   "source": [
    "<a id='data_matrix_rot'></a>\n",
    "#### Data matrix rotation"
   ]
  },
  {
   "cell_type": "markdown",
   "metadata": {},
   "source": [
    "The covariance matrix $\\Sigma$ is diagonal in the new basis. Setting $U$ as the orthogonal matrix of basis change:\n",
    "- $\\Sigma=\\,\\frac{1}{d-1}\\,X^T\\,X$ -- empirical covariance matrix;\n",
    "\n",
    "\n",
    "- $\\Lambda=U\\,\\Sigma\\,U^T=W^T\\,W=\\mbox{diag}(\\sigma_1,\\sigma_2,\\dots)$ with $W=XU^T$ the rotated dataset."
   ]
  },
  {
   "cell_type": "markdown",
   "metadata": {},
   "source": [
    "```zmdata_pca.components_``` is the ndarray of shape (n_components, n_features) corresponding to the basis change matrix $U$. Then the rotated dataframe: ```rotdata=mult(zmdata,zmdata_pca.components_.T)```. "
   ]
  },
  {
   "cell_type": "code",
   "execution_count": 12,
   "metadata": {},
   "outputs": [],
   "source": [
    "def changebasis(data, components):\n",
    "    return np.matmul(data, components.T)"
   ]
  },
  {
   "cell_type": "markdown",
   "metadata": {},
   "source": [
    "#### Optimal Log-likelihood\n",
    "\n",
    "From Eq.16 [[Mera&al2020]](#Paulo), the code-length associated with a set of i.i.d. data $\\{x\\in\\mathbb{K}^d\\}_{i=1}^N$ is:\n",
    "\n",
    "$$\n",
    "\\mathcal{L}(x^*)=-\\log\\, p(x^N|\\hat{Q})\\,+\\,\\underset{a}{\\underbrace{\\frac{m(m+1)}{4}\\,\\log{\\left(\\frac{N}{2\\pi}\\right)}}}\\,+\\,\\underset{b}{\\underbrace{\\frac{(m-1)m(m+2)}{24\\,N}}}\\,+\\,\\log{\\mbox{vol}_gM(s)}.\n",
    "$$\n",
    "where the logarithm are in natural base. $Q:=\\Sigma^{-1}$ is the *precision matrix*, $m$ ranges over the number of features $[0,d]$ and represents the optimal dimensionality of the data.\n",
    "\n",
    "- **Log-Gaussian distribution**:\n",
    "\n",
    "$$\n",
    "\\begin{split}\n",
    "\\log\\, p(x^N|\\hat{Q})\n",
    "&=\\frac{N}{2}\\log\\mbox{det}\\,\\left(\\frac{1}{2\\pi}\\,\\hat{Q}\\right)-\\frac{1}{2}\\sum_xx^T\\hat{Q}x\n",
    "\\end{split}\n",
    "$$\n",
    "\n",
    "where $Q$ is the precision matrix i.e. $Q=\\Sigma^{-1}$. Then we have:\n",
    "\n",
    "$$\n",
    "\\log\\mbox{det}\\,\\left(\\frac{1}{2\\pi}\\,\\hat{Q}\\right)=-d\\log(2\\pi)-\\sum_{i=1}^d\\log \\text{eigen}_i(\\Sigma^{-1})\\approx -d\\,\\log(2\\pi)-\\sum_{i=1}^m\\log \\sigma_m^{-1}-(d-m)\\log\\bar{\\sigma}^{-1},\n",
    "$$\n",
    "\n",
    "and\n",
    "\n",
    "$$\n",
    "\\begin{split}\n",
    "\\sum_xx^T\\,\\hat{\\Sigma}^{-1}x&=\\sum_xx^TUU^T\\,\\hat{\\Sigma}^{-1}UU^Tx=\\sum_xx^TU\\,\\mbox{diag}(\\sigma_1^{-1},\\dots,\\sigma_d^{-1})U^Tx\\\\\n",
    "&=\\mbox{tr}\\,\\left[\\mbox{diag}(\\sigma_1^{-1},\\dots,\\sigma_d^{-1})\\sum_www^T\\right]\\approx\\mbox{tr}\\,\\left[\\sigma_m\\sum_www^T\\right]\n",
    "\\end{split}\n",
    "$$\n",
    "\n",
    "where $\\Lambda_m$ is the diagonal covariance matrix whose last $d-m$ eigenvalues have been approximated by their average $\\bar\\sigma$, i.e. $\\Lambda_m=\\mbox{diag}(\\sigma_1^{-1},\\dots,\\sigma_m^{-1},(\\bar\\sigma)^{-1},\\dots(\\bar\\sigma)^{-1})$.\n",
    "\n",
    "Finally:\n",
    "\n",
    "$$\n",
    "\\begin{split}\n",
    "\\log\\, p(x^N|\\hat{Q})\n",
    "&\\approx-\\frac{Nd}{2}\\log(2\\pi)-\\frac{N}{2}\\sum_{i=1}^m\\log \\sigma_m-\\frac{N(d-m)}{2}\\log\\bar{\\sigma}-\\frac{1}{2}\\mbox{tr}\\,\\left[\\sigma_m\\sum_www^T\\right]\n",
    "\\end{split}\n",
    "$$\n",
    "\n",
    "\n",
    "where $\\bar{\\sigma}=(d-m)^{-1}\\sum_{i=m+1}^d\\sigma_i$.\n",
    "\n",
    "\n",
    "\n",
    "- **Log-vol** term:\n",
    "From Eq.15:\n",
    "\n",
    "$$\n",
    "\\log{\\mbox{vol}_g(M(s))}=\\underset{c}{\\underbrace{-\\frac{m}{2}\\log2+\\frac{m(m+1)}{4}\\,\\log\\pi-\\log m!}}-\\sum_{j=1}^m\\log\\Gamma\\left(\\frac{j}{2}\\right)+\\log\\,I(s)\n",
    "$$\n",
    "\n",
    "Recall $\\Gamma(n+1)=n!$, we write $\\log m!=\\log\\Gamma(m+1)$. Then, using the upper bound for $I(s)$:\n",
    "\n",
    "$$\n",
    "\\log\\,I(s)\\leq m\\log(s\\log(2))+(2s+1)\\frac{m(m-1)}{4}\\log2\n",
    "$$\n",
    "\n",
    "\n",
    "Observe that $\\log(m!)=\\sum_{a=2}^m\\log(a)$.\n",
    "\n",
    "\n",
    "The function ```GC_optk()``` optimizes the log-code-length described above with respect to $m$, setting by default the precision-parameter to the machine limit for storaging floats, $s=64$.\n",
    "<a id='GC_optk'></a>"
   ]
  },
  {
   "cell_type": "code",
   "execution_count": 32,
   "metadata": {
    "scrolled": false
   },
   "outputs": [],
   "source": [
    "def GC_optk(data,s=64):\n",
    "    \n",
    "    def sum_logf(length):\n",
    "        '''Return a list of given length whose entries are:\n",
    "           list[i-1]=sum_a=1^i(np.log(a)+np.log(gamma(a/2)))'''\n",
    "        sumlog_vec=[]\n",
    "        sumlog1=0\n",
    "        for a in range(1,length): \n",
    "            sumlog1=sumlog1+np.log(a)+lgm(a/2)\n",
    "            sumlog_vec.append(sumlog1)\n",
    "        return sumlog_vec\n",
    "    \n",
    "    def log_gauss(N,d,k,lambdas,Sw):\n",
    "    \n",
    "        'lambdas=pca.explained_variance_'\n",
    "        #k=k-1\n",
    "        if k==d:\n",
    "            lambda_bar=1\n",
    "        else:\n",
    "            lambda_bar=sum(lambdas[k:])/(d-k)\n",
    "        #print('k:',k,'lambda_bar',lambda_bar)   \n",
    "        Q=np.diag([1/eig for eig in lambdas[:k]]+[1/lambda_bar for i in range(k,d)])\n",
    "        r=d*np.log(2*np.pi)\n",
    "        r=r+sum(np.log(lambdas[:k])) #kth-eigen included\n",
    "        r=r+(d-k)*np.log(lambda_bar)\n",
    "        r=r+np.trace(Q@Sw)\n",
    "        return r*N/2\n",
    "    \n",
    "    zm_data=zeromean(data)\n",
    "    pca = PCA().fit(zm_data)\n",
    "    dimrange=pca.components_.shape[0] #number of features\n",
    "    N=zm_data.shape[0] #number of instances\n",
    "    if (dimrange != zm_data.shape[1]):\n",
    "            print(\"attributes have linear dependencies, ther is a non-trivial kernel in the covariance matrix\")\n",
    "            print(\"Solution: remove dependent variables eg: averages over the variables\")\n",
    "            return \"error\";\n",
    "    rotdata=changebasis(zm_data,pca.components_)\n",
    "    optd=-1;\n",
    "    optscore=np.Infinity\n",
    "    S=np.matmul(rotdata.T,rotdata)\n",
    "    sumlog_vec=sum_logf(dimrange+1)\n",
    "    for m in range(1,dimrange+1):\n",
    "        r=log_gauss(N,dimrange,m, pca.explained_variance_,S)\n",
    "        r=r+m*(m+1)/4*np.log(N/(2*np.pi)) #a\n",
    "        r=r+m*(m+2)*(m-1)/(24*N) #b\n",
    "        r=r-m/2*np.log(2)+m*(m+1)/4*np.log(np.pi) #c\n",
    "        sumlog=sumlog_vec[m-1]\n",
    "        r=r-sumlog\n",
    "        r=r+m*np.log(s*np.log(2))+(2*s+1)*m*(m-1)/4*np.log(2) \n",
    "        if(r<optscore):\n",
    "            optd=m;  \n",
    "            optscore=r\n",
    "    \n",
    "    return optd"
   ]
  },
  {
   "cell_type": "markdown",
   "metadata": {},
   "source": [
    "<a id=tests></a>\n",
    "# Tests [$\\diamond$](#TC)\n",
    "<hr>\n",
    "<hr>"
   ]
  },
  {
   "cell_type": "markdown",
   "metadata": {},
   "source": [
    "<a id=functions_test></a>\n",
    "## Test-functions [$\\diamond$](#TC)\n",
    "\n",
    "For a given dataset:\n",
    "\n",
    "- ```GC_s()``` plots the optimal reduced dimension via *Geometric Complexity algorithm* in function of the precision parameter $s\\in [0,64]$.\n",
    "\n",
    "- ```GC_table()``` is an adjustment of the function ```GC_optk()```: other than computing the optimal dimensionality reduction, returns a table with the values of the terms of the Geometric Complexity with the increasing of the dimensionality;\n",
    "\n",
    "- ```PCA_test()``` compares optimal reduced dimensionality obtained from *scree-plot knee*, *Minka's algorithm*, *Tavory's algorithm*, *Geometric-Complexity-algorithm*, showing the results on the scree-plot;\n",
    "\n",
    "- ```PCA_datalen()``` optimal reduced dimensionality in function of dataset-length;\n",
    "\n",
    "- ```PCA_datafeat()``` optimal reduced dimensionality in function of the number of features in the data;"
   ]
  },
  {
   "cell_type": "markdown",
   "metadata": {},
   "source": [
    "<a id='GC_s'></a>\n",
    "### $\\bullet\\ $  <code>GC_s()</code>"
   ]
  },
  {
   "cell_type": "code",
   "execution_count": 18,
   "metadata": {},
   "outputs": [],
   "source": [
    "def GC_s(data,tick=0):\n",
    "    \n",
    "    '''INPUT: dataset; \n",
    "    OUTPUT: plot of the optimal-dimensionality-reduction -- chosen via Geometric Complexity algorithm --\n",
    "    in function of the number of bits s\\in[1,64] used for describing the data.\n",
    "    Options: tick=1 set label's locations.'''\n",
    "    \n",
    "    v=[]\n",
    "    gc_vec=[]\n",
    "    for i in range(1,65):\n",
    "        v.append(i)\n",
    "        gc=GC_optk(data,i)\n",
    "        gc_vec.append(gc)\n",
    "    plot(v,gc_vec,'x',markersize=2,color=\"blue\")\n",
    "    if tick==1:\n",
    "        yticks(np.arange(gc_vec[-1]-2,gc_vec[1]+2,step=1))  # Set label locations\n",
    "        xticks(np.arange(0,65,step=4))  # Set label locations\n",
    "        grid()\n",
    "    xlabel('Precision').set_color('black');\n",
    "    ylabel('Optimal dimension').set_color('black');"
   ]
  },
  {
   "cell_type": "markdown",
   "metadata": {},
   "source": [
    "<a id='PCA_test'></a>\n",
    "### $\\bullet\\ $  <code>PCA_test()</code>"
   ]
  },
  {
   "cell_type": "code",
   "execution_count": 19,
   "metadata": {},
   "outputs": [],
   "source": [
    "def PCA_test(data, knee=1, rounds=10, minka=1, tavory=1, GC=1, s=64):\n",
    "    \n",
    "    '''INPUT: data matrix Nxd\n",
    "    OUTPUT: scree plot and knee, optimal dimensionality reduction via Minka, Tavory and Geometric Complexity algorithms.\n",
    "    Options: by default all the algorithm above are runned -- knee=1 with rounds=10, minka=1, tavory=1, GC=1 with s=64.\n",
    "    You can choose to exclude any one by setting knee/minka/tavory/GC=0.'''\n",
    "    \n",
    "    data=zeromean(data)\n",
    "    data_pca=PCA().fit(X=data)\n",
    "    \n",
    "    eigen=data_pca.explained_variance_ratio_\n",
    "    plot(eigen, '.', markersize=1,label='Var_ratio',color=\"black\")\n",
    "    #eigen1=data_pca.explained_variance_ratio_[0]\n",
    "    \n",
    "    if knee==1:\n",
    "        data_kneedle=find_knee(data_pca)\n",
    "        print('knee',round(data_kneedle, rounds))\n",
    "        plot(data_kneedle,eigen[int(data_kneedle)],'2', markersize=20, label='knee',color=\"red\")\n",
    "    \n",
    "    if minka==1:\n",
    "        pca_mle=PCA('mle').fit(data)\n",
    "        mc=pca_mle.components_.shape[0]\n",
    "        print('Minka Complexity',mc)\n",
    "        plot(mc,eigen[int(mc)],'2', markersize=20, label='Minka',color=\"blue\")\n",
    "    \n",
    "    if tavory==1:\n",
    "        nml=nml_optk(data)\n",
    "        print('Tavory Complexity',nml)\n",
    "        plot(nml,eigen[int(nml)],'2', markersize=20, label='Tavory',color=\"orange\")\n",
    "        \n",
    "    if GC==1:\n",
    "        n1=GC_optk(data,s)\n",
    "        print('Geometric Complexity', n1)\n",
    "        plot(n1,eigen[int(n1)],'2', markersize=20, label='Optimal k',color=\"green\")  \n",
    "    \n",
    "    legend();\n",
    "    xlabel('Number of factors').set_color('black');\n",
    "    ylabel('Explained variance ratio').set_color('black');"
   ]
  },
  {
   "cell_type": "markdown",
   "metadata": {},
   "source": [
    "<a id='GC_table'></a>\n",
    "### $\\bullet\\ $  <code>GC_table()</code>"
   ]
  },
  {
   "cell_type": "code",
   "execution_count": 20,
   "metadata": {},
   "outputs": [],
   "source": [
    "def GC_table(data,s=64,table=False):\n",
    "    \n",
    "    '''INPUT:data-matrix Nxd\n",
    "    OUTPUT: integer, optimal dimensionality reduction via Geometric Complexity algorithm with default s=64\n",
    "    Options: precision s=int, if table=True the function prints a table with code values'''\n",
    "    \n",
    "    def sum_logf(length):\n",
    "        '''Return a list of given length whose entries are:\n",
    "           list[i-1]=sum_a=1^i(np.log(a)+np.log(gamma(a/2)))'''\n",
    "        sumlog_vec=[]\n",
    "        sumlog1=0\n",
    "        for a in range(1,length): \n",
    "            sumlog1=sumlog1+np.log(a)+lgm(a/2)\n",
    "            sumlog_vec.append(sumlog1)\n",
    "        return sumlog_vec\n",
    "    \n",
    "    def log_gauss(N,d,k,lambdas,Sw):\n",
    "    \n",
    "        'lambdas=pca.explained_variance_'\n",
    "        \n",
    "        if k==d:\n",
    "            lambda_bar=1\n",
    "        else:\n",
    "            lambda_bar=sum(lambdas[k:])/(d-k)\n",
    "           \n",
    "        Q=np.diag([1/eig for eig in lambdas[:k]]+[1/lambda_bar for i in range(k,d)])\n",
    "        r=d*np.log(2*np.pi)\n",
    "        r=r+sum(np.log(lambdas[:k])) #kth-eigen included\n",
    "        r=r+(d-k)*np.log(lambda_bar)\n",
    "        r=r+np.trace(Q@Sw)\n",
    "        return r*N/2\n",
    "    \n",
    "    zm_data=zeromean(data)\n",
    "    pca = PCA().fit(zm_data)\n",
    "    dimrange=pca.components_.shape[0] #number of features\n",
    "    N=zm_data.shape[0] #number of instances\n",
    "    if (dimrange != zm_data.shape[1]):\n",
    "            print(\"attributes have linear dependencies, ther is a non-trivial kernel in the covariance matrix\")\n",
    "            print(\"Solution: remove dependent variables eg: averages over the variables\")\n",
    "            return \"error\";\n",
    "    rotdata=changebasis(zm_data,pca.components_)\n",
    "    optd=-1;\n",
    "    optscore=np.Infinity\n",
    "    S=np.matmul(rotdata.T,rotdata)\n",
    "    sumlog_vec=sum_logf(dimrange+1)\n",
    "    tab=[[]]\n",
    "    for m in range(1,dimrange+1):\n",
    "        r0=log_gauss(N,dimrange,m, pca.explained_variance_,S)\n",
    "        r1=+m*(m+1)/4*np.log(N/(2*np.pi)) #a\n",
    "        r1=r1+m*(m+2)*(m-1)/(24*N) #b\n",
    "        r2=m/2*np.log(2)+m*(m+1)/4*np.log(np.pi) #c\n",
    "        sumlog=sumlog_vec[m-1]\n",
    "        r2=r2-sumlog\n",
    "        rs=m*np.log(s*np.log(2))+(2*s+1)*m*(m-1)/4*np.log(2)\n",
    "        r=r0+r1+r2+rs\n",
    "        if table==True:\n",
    "            vec=[m]\n",
    "            vec.append(r0)#log(p)\n",
    "            vec.append(r1)#model1\n",
    "            vec.append(r2+rs)#log(vol)\n",
    "            vec.append(rs)#log(I(s))\n",
    "            vec.append(r)#geometric complexity\n",
    "            tab=tab+[vec]\n",
    "        if(r<optscore):\n",
    "            optd=m;  \n",
    "            optscore=r\n",
    "    if table==True:\n",
    "        print(tabulate(tab[1:],headers=['log(p)','model1','log(vol(s))','log(I(s))','GC']))\n",
    "    return optd"
   ]
  },
  {
   "cell_type": "markdown",
   "metadata": {},
   "source": [
    "<a id='PCA_datalen'></a>\n",
    "### $\\bullet\\ $  <code>PCA_datalen()</code>"
   ]
  },
  {
   "cell_type": "code",
   "execution_count": 34,
   "metadata": {},
   "outputs": [],
   "source": [
    "def PCA_datalen(data, num=1, minka=1, tavory=1, GC=1, s=64, vec=0):\n",
    "    \n",
    "    '''INPUT data-matrix Nxd, integer num, integer s\n",
    "    OUTPUT plot of the optimal dimensionality reduction obtained with the three algorithms -- Minka, Tavory-NML,\n",
    "    Geometric Complexity -- in function of the dimension of the dataset. \n",
    "    Options The integer num indicate the interval between two different evaluations and s is the precision parameter\n",
    "    for the Geometric Complexity algorithm.'''\n",
    "    \n",
    "    zmdata=zeromean(data)\n",
    "    data_pca=PCA().fit(X=data)\n",
    "    minka_k=[]\n",
    "    tav_k=[]\n",
    "    gc_k=[]\n",
    "    for i in range(shape(zmdata)[1]+1,shape(zmdata)[0]+1,num):\n",
    "        if minka==1:\n",
    "            pca_mle=PCA('mle').fit(zmdata[:i])\n",
    "            mc=pca_mle.components_.shape[0]\n",
    "            minka_k.append(mc)\n",
    "        if tavory==1:\n",
    "            nml=nml_optk(zmdata[:i])\n",
    "            tav_k.append(nml)\n",
    "        if GC==1:\n",
    "            gc=GC_optk(zmdata[:i],s)\n",
    "            gc_k.append(gc)\n",
    "        \n",
    "    if minka==1:\n",
    "        plot(minka_k, 'x', markersize=5,label='Minka',color=\"green\")\n",
    "    if tavory==1:\n",
    "        plot(tav_k,'2', markersize=5, label='Tavory nml',color=\"purple\")\n",
    "    if GC==1:\n",
    "        plot(gc_k, 'x', markersize=5,label='Geometric Complexity',color=\"blue\")\n",
    "    legend();\n",
    "    xlabel('Number of instances').set_color('black');\n",
    "    ylabel('Reduced dimension').set_color('black');\n",
    "    if vec==1:\n",
    "        return minka_k,tav_k,gc_k"
   ]
  },
  {
   "cell_type": "markdown",
   "metadata": {},
   "source": [
    "<a id='PCA_datafeat'></a>\n",
    "### $\\bullet\\ $  <code>PCA_datafeat()</code> "
   ]
  },
  {
   "cell_type": "code",
   "execution_count": 22,
   "metadata": {},
   "outputs": [],
   "source": [
    "def PCA_datafeat(data, num=1, minka=1, tavory=1, GC=1, s=64, vec=0):\n",
    "    \n",
    "    '''INPUT data-matrix Nxd, integer num, integer s\n",
    "    OUTPUT plot of the optimal dimensionality reduction obtained with the three algorithms -- Minka, Tavory-NML,\n",
    "    Geometric Complexity -- in function of the number of features. \n",
    "    Options The integer num indicate the interval between two different evaluations and s is the precision parameter\n",
    "    for the Geometric Complexity algorithm.'''\n",
    "    \n",
    "    zmdata=zeromean(data)\n",
    "    data_pca=PCA().fit(X=data)\n",
    "    minka_k=[]\n",
    "    tav_k=[]\n",
    "    gc_k=[]\n",
    "    for i in range(int(shape(zmdata)[1]/2),shape(zmdata)[1],num):\n",
    "        if minka==1:\n",
    "            pca_mle=PCA('mle').fit(zmdata[:,:i])\n",
    "            mc=pca_mle.components_.shape[0]\n",
    "            minka_k.append(mc)\n",
    "        if tavory==1:\n",
    "            nml=nml_optk(zmdata[:,:i])\n",
    "            tav_k.append(nml)\n",
    "        if GC==1:\n",
    "            gc=GC_optk(zmdata[:,:i],s)\n",
    "            gc_k.append(gc)\n",
    "        \n",
    "    if minka==1:\n",
    "        plot(minka_k, 'x', markersize=5,label='Minka',color=\"green\")\n",
    "    if tavory==1:\n",
    "        plot(tav_k,'2', markersize=5, label='Tavory nml',color=\"purple\")\n",
    "    if GC==1:\n",
    "        plot(gc_k, 'x', markersize=5,label='Geometric Complexity',color=\"blue\")\n",
    "    legend();\n",
    "    xlabel('Number of instances').set_color('black');\n",
    "    ylabel('Reduced dimension').set_color('black');\n",
    "    if vec==1:\n",
    "        return np.array(minka_k),np.array(tav_k),np.array(gc_k)"
   ]
  },
  {
   "cell_type": "markdown",
   "metadata": {},
   "source": [
    "<a id=test_data></a>\n",
    "## Test-data [$\\diamond$](#TC)\n",
    "\n",
    "We consider datasets obtained from multivariate sources and s.t. $N>3d$.\n",
    "\n",
    "After uploadiing and pre-processing the data we proceed as it follows:\n",
    "\n",
    "1. compute the optimal dimensionality reduction via Geometric Complexity algorithm ```GC_optK``` :\n",
    "    - when the data-features display the same scale, we use the s-parameter obtained with the ```precision()``` function;\n",
    "    - when the data features have different scales, we first obtain the int-covariance matrix with the ```data_int()``` function;\n",
    "    - plot the GC_k in function of the s-parameter using ```GC_s```;\n",
    "    \n",
    "    \n",
    "2. compare the obtained result with the ones obtained via Minka's and Tavory's algorithm using ```PCA_test()``` and/or ```GC_table()```;\n",
    "\n",
    "\n",
    "3. plot the dimensionality reductions obtained with the three algorithms with respect to the dataset-length using ```PCA_datalen()```;\n",
    "\n",
    "\n",
    "4. plot the dimensionality reductions obtained with the three algorithms with respect to the number of features in the data using ```PCA_datafeat()```.\n",
    "\n",
    "\n",
    "We start by creating ad-ok datasets using the ```data_Tavory()``` function from a given dataset and testing the three algorithms;\n",
    "\n",
    "- [Test-data from Sonar-data](#test_sonar_data);\n",
    "\n",
    "then, we proceed with real datasets:\n",
    "\n",
    "- [Sonar-data](#sonar_data);\n",
    "- [Cnae data](#sparse_data): highly sparse dataset;\n",
    "- [Drug-data](#drug_data): low-dim dataset;\n",
    "- [Music-data](#music_data): features with different scales;\n",
    "- [Ceramic-composition-data](#ceramic_data);"
   ]
  },
  {
   "cell_type": "markdown",
   "metadata": {},
   "source": [
    "<a id=test_sonar_data></a>\n",
    "### Test-data from Sonar-data  [$\\tiny\\triangle$](#test_data)"
   ]
  },
  {
   "cell_type": "code",
   "execution_count": 23,
   "metadata": {},
   "outputs": [
    {
     "name": "stdout",
     "output_type": "stream",
     "text": [
      "mdata: (208, 60) float64\n"
     ]
    }
   ],
   "source": [
    "my_data_path='Data/sonar.all-data.csv'\n",
    "my_data = genfromtxt('Data/sonar.all-data.csv', delimiter=',')\n",
    "\n",
    "### removing the class\n",
    "mdata=my_data[:,:-1]\n",
    "\n",
    "print('mdata:',mdata.shape, mdata.dtype)"
   ]
  },
  {
   "cell_type": "markdown",
   "metadata": {},
   "source": [
    "Ad-ok datasets from ```my_data```:"
   ]
  },
  {
   "cell_type": "code",
   "execution_count": 26,
   "metadata": {},
   "outputs": [],
   "source": [
    "err=1e-6\n",
    "zmdata_k5=data_Tavory(my_data,5,err)\n",
    "zmdata_k10=data_Tavory(my_data,10,err)\n",
    "zmdata_k30=data_Tavory(my_data,30,err)"
   ]
  },
  {
   "cell_type": "code",
   "execution_count": 11,
   "metadata": {},
   "outputs": [
    {
     "name": "stdout",
     "output_type": "stream",
     "text": [
      "my_data_test: (1000, 100) float64\n"
     ]
    }
   ],
   "source": [
    "my_data_test_path='Data/Minkatest.csv'\n",
    "my_data_test = genfromtxt('Data/Minkatest.csv', delimiter=',')\n",
    "print('my_data_test:',my_data_test.shape, my_data_test.dtype)"
   ]
  },
  {
   "cell_type": "markdown",
   "metadata": {},
   "source": [
    "**1. GC optimal dimensionality reduction and precision**"
   ]
  },
  {
   "cell_type": "code",
   "execution_count": 42,
   "metadata": {},
   "outputs": [
    {
     "data": {
      "text/plain": [
       "(14, 5, None)"
      ]
     },
     "execution_count": 42,
     "metadata": {},
     "output_type": "execute_result"
    },
    {
     "data": {
      "image/png": "[encoded data removed]",
      "text/plain": [
       "<Figure size 432x288 with 1 Axes>"
      ]
     },
     "metadata": {
      "needs_background": "light"
     },
     "output_type": "display_data"
    }
   ],
   "source": [
    "precision(zmdata_k5,4),GC_optk(zmdata_k5,precision(zmdata_k5,4)),GC_s(zmdata_k5)"
   ]
  },
  {
   "cell_type": "code",
   "execution_count": 43,
   "metadata": {
    "scrolled": false
   },
   "outputs": [
    {
     "data": {
      "text/plain": [
       "(15, 10, None)"
      ]
     },
     "execution_count": 43,
     "metadata": {},
     "output_type": "execute_result"
    },
    {
     "data": {
      "image/png": "[encoded data removed]",
      "text/plain": [
       "<Figure size 432x288 with 1 Axes>"
      ]
     },
     "metadata": {
      "needs_background": "light"
     },
     "output_type": "display_data"
    }
   ],
   "source": [
    "precision(zmdata_k10,4),GC_optk(zmdata_k10,precision(zmdata_k10,4)),GC_s(zmdata_k10)"
   ]
  },
  {
   "cell_type": "code",
   "execution_count": 44,
   "metadata": {
    "scrolled": true
   },
   "outputs": [
    {
     "data": {
      "text/plain": [
       "(17, 30, None)"
      ]
     },
     "execution_count": 44,
     "metadata": {},
     "output_type": "execute_result"
    },
    {
     "data": {
      "image/png": "[encoded data removed]",
      "text/plain": [
       "<Figure size 432x288 with 1 Axes>"
      ]
     },
     "metadata": {
      "needs_background": "light"
     },
     "output_type": "display_data"
    }
   ],
   "source": [
    "precision(zmdata_k30,4),GC_optk(zmdata_k30,precision(zmdata_k30,4)),GC_s(zmdata_k30)"
   ]
  },
  {
   "cell_type": "code",
   "execution_count": 48,
   "metadata": {},
   "outputs": [
    {
     "data": {
      "text/plain": [
       "(18, 6, None)"
      ]
     },
     "execution_count": 48,
     "metadata": {},
     "output_type": "execute_result"
    },
    {
     "data": {
      "image/png": "[encoded data removed]",
      "text/plain": [
       "<Figure size 432x288 with 1 Axes>"
      ]
     },
     "metadata": {
      "needs_background": "light"
     },
     "output_type": "display_data"
    }
   ],
   "source": [
    "precision(my_data_test,4),GC_optk(my_data_test,precision(my_data_test,4)),GC_s(my_data_test)"
   ]
  },
  {
   "cell_type": "markdown",
   "metadata": {},
   "source": [
    "**2. Scree plot and algorithms-comparing**"
   ]
  },
  {
   "cell_type": "code",
   "execution_count": 27,
   "metadata": {
    "scrolled": true
   },
   "outputs": [
    {
     "name": "stdout",
     "output_type": "stream",
     "text": [
      "Minka Complexity 58\n",
      "Tavory Complexity 5\n",
      "Geometric Complexity 5\n"
     ]
    },
    {
     "data": {
      "image/png": "[encoded data removed]",
      "text/plain": [
       "<Figure size 432x288 with 1 Axes>"
      ]
     },
     "metadata": {
      "needs_background": "light"
     },
     "output_type": "display_data"
    }
   ],
   "source": [
    "PCA_test(zmdata_k5,14)"
   ]
  },
  {
   "cell_type": "code",
   "execution_count": 46,
   "metadata": {},
   "outputs": [
    {
     "name": "stdout",
     "output_type": "stream",
     "text": [
      "Minka Complexity 55\n",
      "Tavory Complexity 10\n",
      "Geometric Complexity 10\n"
     ]
    },
    {
     "data": {
      "image/png": "[encoded data removed]",
      "text/plain": [
       "<Figure size 432x288 with 1 Axes>"
      ]
     },
     "metadata": {
      "needs_background": "light"
     },
     "output_type": "display_data"
    }
   ],
   "source": [
    "PCA_test(zmdata_k10,15)"
   ]
  },
  {
   "cell_type": "code",
   "execution_count": 45,
   "metadata": {
    "scrolled": true
   },
   "outputs": [
    {
     "name": "stdout",
     "output_type": "stream",
     "text": [
      "Minka Complexity 50\n",
      "Tavory Complexity 36\n",
      "Geometric Complexity 30\n"
     ]
    },
    {
     "data": {
      "image/png": "[encoded data removed]",
      "text/plain": [
       "<Figure size 432x288 with 1 Axes>"
      ]
     },
     "metadata": {
      "needs_background": "light"
     },
     "output_type": "display_data"
    }
   ],
   "source": [
    "PCA_test(zmdata_k30,17)"
   ]
  },
  {
   "cell_type": "code",
   "execution_count": 49,
   "metadata": {},
   "outputs": [
    {
     "name": "stdout",
     "output_type": "stream",
     "text": [
      "Minka Complexity 5\n",
      "Tavory Complexity 98\n",
      "Geometric Complexity 5\n"
     ]
    },
    {
     "data": {
      "image/png": "[encoded data removed]",
      "text/plain": [
       "<Figure size 432x288 with 1 Axes>"
      ]
     },
     "metadata": {
      "needs_background": "light"
     },
     "output_type": "display_data"
    }
   ],
   "source": [
    "PCA_test(my_data_test,18)"
   ]
  },
  {
   "cell_type": "markdown",
   "metadata": {},
   "source": [
    "<a id=sonar_data></a>\n",
    "### Sonar-data  [$\\tiny\\triangle$](#test_data)"
   ]
  },
  {
   "cell_type": "code",
   "execution_count": 12,
   "metadata": {},
   "outputs": [
    {
     "name": "stdout",
     "output_type": "stream",
     "text": [
      "mdata: (208, 60) float64\n"
     ]
    }
   ],
   "source": [
    "my_data_path='Data/sonar.all-data.csv'\n",
    "my_data = genfromtxt('Data/sonar.all-data.csv', delimiter=',')\n",
    "\n",
    "#removing class\n",
    "mdata=my_data[:,:-1]\n",
    "\n",
    "print('mdata:',mdata.shape, mdata.dtype)"
   ]
  },
  {
   "cell_type": "markdown",
   "metadata": {},
   "source": [
    "**1. GC optimal dimensionality reduction and precision**"
   ]
  },
  {
   "cell_type": "code",
   "execution_count": 55,
   "metadata": {},
   "outputs": [
    {
     "data": {
      "text/plain": [
       "(16, 21, None)"
      ]
     },
     "execution_count": 55,
     "metadata": {},
     "output_type": "execute_result"
    },
    {
     "data": {
      "image/png": "[encoded data removed]",
      "text/plain": [
       "<Figure size 432x288 with 1 Axes>"
      ]
     },
     "metadata": {
      "needs_background": "light"
     },
     "output_type": "display_data"
    }
   ],
   "source": [
    "precision(my_data,4),GC_optk(my_data,precision(my_data,4)),GC_s(my_data)"
   ]
  },
  {
   "cell_type": "markdown",
   "metadata": {},
   "source": [
    "**2. Scree plot and algorithms-comparing**"
   ]
  },
  {
   "cell_type": "code",
   "execution_count": 138,
   "metadata": {},
   "outputs": [
    {
     "name": "stdout",
     "output_type": "stream",
     "text": [
      "knee 9.0\n",
      "Minka Complexity 57\n",
      "Tavory Complexity 59\n",
      "Geometric Complexity 28\n"
     ]
    },
    {
     "data": {
      "image/png": "[encoded data removed]",
      "text/plain": [
       "<Figure size 432x288 with 1 Axes>"
      ]
     },
     "metadata": {
      "needs_background": "light"
     },
     "output_type": "display_data"
    }
   ],
   "source": [
    "PCA_test(my_data,s=6)"
   ]
  },
  {
   "cell_type": "code",
   "execution_count": 137,
   "metadata": {
    "scrolled": true
   },
   "outputs": [
    {
     "name": "stdout",
     "output_type": "stream",
     "text": [
      "         log(p)      model1    log(vol(s))    log(I(s))           GC\n",
      "--  -----------  ----------  -------------  -----------  -----------\n",
      " 1  1.3008e+06      1.74983        1.77182      1.42525  1.3008e+06\n",
      " 2  1.29929e+06     5.25109        8.50068      7.35595  1.2993e+06\n",
      " 3  1.2983e+06     10.505         20.0227      17.7921   1.29833e+06\n",
      " 4  1.29744e+06    17.5127        36.214       32.7337   1.2975e+06\n",
      " 5  1.29677e+06    26.2755        56.9754      52.1808   1.29685e+06\n",
      " 6  1.29618e+06    36.7945        82.2238      76.1333   1.2963e+06\n",
      " 7  1.2955e+06     49.071        111.888      104.591    1.29566e+06\n",
      " 8  1.29497e+06    63.1061       145.906      137.555    1.29518e+06\n",
      " 9  1.29447e+06    78.901        184.222      175.024    1.29473e+06\n",
      "10  1.29399e+06    96.457        226.785      216.998    1.29432e+06\n",
      "11  1.29351e+06   115.775        273.552      263.478    1.2939e+06\n",
      "12  1.2931e+06    136.857        324.48       314.463    1.29356e+06\n",
      "13  1.29274e+06   159.703        379.531      369.954    1.29328e+06\n",
      "14  1.29239e+06   184.316        438.668      429.95     1.29301e+06\n",
      "15  1.29206e+06   210.695        501.859      494.452    1.29277e+06\n",
      "16  1.29172e+06   238.842        569.073      563.459    1.29252e+06\n",
      "17  1.29138e+06   268.759        640.28       636.971    1.29229e+06\n",
      "18  1.29102e+06   300.447        715.452      714.989    1.29204e+06\n",
      "19  1.29072e+06   333.906        794.563      797.513    1.29185e+06\n",
      "20  1.29042e+06   369.139        877.589      884.542    1.29166e+06\n",
      "21  1.29007e+06   406.146        964.504      976.076    1.29144e+06\n",
      "22  1.28982e+06   444.928       1055.29      1072.12     1.29132e+06\n",
      "23  1.28961e+06   485.487       1149.92      1172.66     1.29124e+06\n",
      "24  1.28939e+06   527.824       1248.37      1277.71     1.29117e+06\n",
      "25  1.28919e+06   571.94        1350.63      1387.27     1.29111e+06\n",
      "26  1.28896e+06   617.836       1456.67      1501.33     1.29103e+06\n",
      "27  1.28874e+06   665.514       1566.48      1619.9      1.29097e+06\n",
      "28  1.28857e+06   714.974       1680.05      1742.97     1.29096e+06\n",
      "29  1.28842e+06   766.219       1797.34      1870.55     1.29098e+06\n",
      "30  1.28825e+06   819.248       1918.35      2002.63     1.29099e+06\n",
      "31  1.28812e+06   874.064       2043.05      2139.22     1.29103e+06\n",
      "32  1.28799e+06   930.667       2171.45      2280.31     1.29109e+06\n",
      "33  1.28785e+06   989.059       2303.51      2425.91     1.29115e+06\n",
      "34  1.28774e+06  1049.24        2439.22      2576.02     1.29123e+06\n",
      "35  1.28762e+06  1111.21        2578.57      2730.63     1.29131e+06\n",
      "36  1.28748e+06  1174.98        2721.55      2889.75     1.29138e+06\n",
      "37  1.28734e+06  1240.54        2868.15      3053.37     1.29144e+06\n",
      "38  1.28721e+06  1307.89        3018.34      3221.5      1.29154e+06\n",
      "39  1.28706e+06  1377.04        3172.11      3394.13     1.29161e+06\n",
      "40  1.2869e+06   1447.99        3329.46      3571.27     1.29168e+06\n",
      "41  1.28675e+06  1520.73        3490.38      3752.91     1.29176e+06\n",
      "42  1.28657e+06  1595.27        3654.84      3939.06     1.29182e+06\n",
      "43  1.28635e+06  1671.62        3822.84      4129.71     1.29185e+06\n",
      "44  1.28616e+06  1749.77        3994.36      4324.87     1.29191e+06\n",
      "45  1.28596e+06  1829.72        4169.4       4524.54     1.29196e+06\n",
      "46  1.28575e+06  1911.47        4347.95      4728.71     1.29201e+06\n",
      "47  1.28555e+06  1995.03        4529.99      4937.39     1.29208e+06\n",
      "48  1.28544e+06  2080.4         4715.51      5150.57     1.29224e+06\n",
      "49  1.28533e+06  2167.57        4904.51      5368.25     1.2924e+06\n",
      "50  1.28518e+06  2256.55        5096.97      5590.45     1.29253e+06\n",
      "51  1.28508e+06  2347.35        5292.89      5817.14     1.29272e+06\n",
      "52  1.28502e+06  2439.95        5492.25      6048.35     1.29295e+06\n",
      "53  1.28497e+06  2534.37        5695.04      6284.06     1.2932e+06\n",
      "54  1.28494e+06  2630.6         5901.26      6524.27     1.29347e+06\n",
      "55  1.28492e+06  2728.65        6110.89      6768.99     1.29375e+06\n",
      "56  1.2849e+06   2828.51        6323.93      7018.22     1.29405e+06\n",
      "57  1.28488e+06  2930.2         6540.37      7271.95     1.29435e+06\n",
      "58  1.28487e+06  3033.7         6760.2       7530.18     1.29467e+06\n",
      "59  1.28487e+06  3139.02        6983.41      7792.93     1.29499e+06\n",
      "60  1.28486e+06  3246.16        7210         8060.17     1.29532e+06\n",
      "61  1.28486e+06  3355.12        7439.95      8331.93     1.29566e+06\n"
     ]
    },
    {
     "data": {
      "text/plain": [
       "28"
      ]
     },
     "execution_count": 137,
     "metadata": {},
     "output_type": "execute_result"
    }
   ],
   "source": [
    "GC_table(my_data,s=6,table=True)"
   ]
  },
  {
   "cell_type": "markdown",
   "metadata": {},
   "source": [
    "**3. Optimal dimensionality in function of data-length N**"
   ]
  },
  {
   "cell_type": "code",
   "execution_count": 85,
   "metadata": {},
   "outputs": [
    {
     "data": {
      "image/png": "[encoded data removed]",
      "text/plain": [
       "<Figure size 432x288 with 1 Axes>"
      ]
     },
     "metadata": {
      "needs_background": "light"
     },
     "output_type": "display_data"
    }
   ],
   "source": [
    "PCA_datalen(my_data,num=5,s=6)"
   ]
  },
  {
   "cell_type": "markdown",
   "metadata": {},
   "source": [
    "**4. Optimal dimensionality in function of data-features d**"
   ]
  },
  {
   "cell_type": "code",
   "execution_count": 87,
   "metadata": {},
   "outputs": [
    {
     "data": {
      "image/png": "[encoded data removed]",
      "text/plain": [
       "<Figure size 432x288 with 1 Axes>"
      ]
     },
     "metadata": {
      "needs_background": "light"
     },
     "output_type": "display_data"
    }
   ],
   "source": [
    "PCA_datafeat(my_data,s=6)"
   ]
  },
  {
   "cell_type": "markdown",
   "metadata": {},
   "source": [
    "<a id=sparse_data></a>\n",
    "### [Highly sparse data - source and description](https://archive.ics.uci.edu/ml/datasets/cnae-9)  [$\\tiny\\triangle$](#test_data)"
   ]
  },
  {
   "cell_type": "code",
   "execution_count": 13,
   "metadata": {},
   "outputs": [],
   "source": [
    "#loading data\n",
    "cnae_path='Data/CNAE-9.data'\n",
    "cnae_data = genfromtxt(cnae_path, delimiter=',')\n",
    "cn = open(cnae_path, \"r\")\n",
    "#print(cn.read())\n",
    "cn.close()"
   ]
  },
  {
   "cell_type": "code",
   "execution_count": 60,
   "metadata": {},
   "outputs": [],
   "source": [
    "cnae_data=cnae_data[:,[i for i in range(1,cnae_data.shape[1])]] #removing class"
   ]
  },
  {
   "cell_type": "code",
   "execution_count": 61,
   "metadata": {},
   "outputs": [
    {
     "data": {
      "text/plain": [
       "(1080, 856)"
      ]
     },
     "execution_count": 61,
     "metadata": {},
     "output_type": "execute_result"
    }
   ],
   "source": [
    "cnae_data.shape"
   ]
  },
  {
   "cell_type": "markdown",
   "metadata": {},
   "source": [
    "**1. GC optimal dimensionality reduction and precision**"
   ]
  },
  {
   "cell_type": "code",
   "execution_count": 65,
   "metadata": {},
   "outputs": [
    {
     "data": {
      "text/plain": [
       "1"
      ]
     },
     "execution_count": 65,
     "metadata": {},
     "output_type": "execute_result"
    }
   ],
   "source": [
    "precision(cnae_data,0)"
   ]
  },
  {
   "cell_type": "code",
   "execution_count": 66,
   "metadata": {},
   "outputs": [
    {
     "data": {
      "text/plain": [
       "622"
      ]
     },
     "execution_count": 66,
     "metadata": {},
     "output_type": "execute_result"
    }
   ],
   "source": [
    "GC_optk(cnae_data,1)"
   ]
  },
  {
   "cell_type": "code",
   "execution_count": null,
   "metadata": {},
   "outputs": [],
   "source": [
    "#GC_s(cnae_data)"
   ]
  },
  {
   "cell_type": "markdown",
   "metadata": {},
   "source": [
    "**2. Scree plot and algorithms-comparing**\n",
    "\n",
    "Minka's built-in algorithm goes in overflow. I exclude it from the test."
   ]
  },
  {
   "cell_type": "code",
   "execution_count": 67,
   "metadata": {
    "scrolled": true
   },
   "outputs": [
    {
     "name": "stdout",
     "output_type": "stream",
     "text": [
      "knee 55.0\n",
      "Tavory Complexity 624\n",
      "Geometric Complexity 622\n"
     ]
    },
    {
     "data": {
      "image/png": "[encoded data removed]",
      "text/plain": [
       "<Figure size 432x288 with 1 Axes>"
      ]
     },
     "metadata": {
      "needs_background": "light"
     },
     "output_type": "display_data"
    }
   ],
   "source": [
    "PCA_test(cnae_data,minka=0,s=1)"
   ]
  },
  {
   "cell_type": "markdown",
   "metadata": {},
   "source": [
    "**3. Optimal dimensionality in function of data-length N**"
   ]
  },
  {
   "cell_type": "code",
   "execution_count": 69,
   "metadata": {
    "scrolled": true
   },
   "outputs": [
    {
     "data": {
      "text/plain": [
       "(1080, 856)"
      ]
     },
     "execution_count": 69,
     "metadata": {},
     "output_type": "execute_result"
    }
   ],
   "source": [
    "shape(cnae_data)"
   ]
  },
  {
   "cell_type": "code",
   "execution_count": 133,
   "metadata": {},
   "outputs": [
    {
     "data": {
      "image/png": "[encoded data removed]",
      "text/plain": [
       "<Figure size 432x288 with 1 Axes>"
      ]
     },
     "metadata": {
      "needs_background": "light"
     },
     "output_type": "display_data"
    }
   ],
   "source": [
    "PCA_datalen(cnae_data,num=50,s=1,minka=0)"
   ]
  },
  {
   "cell_type": "markdown",
   "metadata": {},
   "source": [
    "**4. Optimal dimensionality in function of data-features d**"
   ]
  },
  {
   "cell_type": "code",
   "execution_count": null,
   "metadata": {},
   "outputs": [],
   "source": [
    "PCA_datafeat(cnae_data,num=20,s=1,minka=0)"
   ]
  },
  {
   "cell_type": "markdown",
   "metadata": {},
   "source": [
    "<a id=drug_data></a>\n",
    "### [Drug-data - source and description](https://archive.ics.uci.edu/ml/datasets/Drug+consumption+%28quantified%29) [$\\tiny\\triangle$](#test_data)\n",
    "Just the first 13 features are not empty."
   ]
  },
  {
   "cell_type": "code",
   "execution_count": null,
   "metadata": {
    "scrolled": true
   },
   "outputs": [],
   "source": [
    "#loading data\n",
    "drug_path='Data/drug_consumption.data'\n",
    "drug_data = genfromtxt(drug_path, delimiter=',')\n",
    "dr=open(drug_path,'r')\n",
    "#print(dr.read())\n",
    "dr.close()"
   ]
  },
  {
   "cell_type": "code",
   "execution_count": 71,
   "metadata": {},
   "outputs": [
    {
     "data": {
      "text/plain": [
       "array([[ 0.49788,  0.48246, -0.05921, ..., -0.21712, -1.18084,      nan],\n",
       "       [-0.07854, -0.48246,  1.98437, ..., -0.71126, -0.21575,      nan],\n",
       "       [ 0.49788, -0.48246, -0.05921, ..., -1.37983,  0.40148,      nan],\n",
       "       ...,\n",
       "       [-0.07854,  0.48246,  0.45468, ...,  0.52975, -0.52593,      nan],\n",
       "       [-0.95197,  0.48246, -0.61113, ...,  1.29221,  1.2247 ,      nan],\n",
       "       [-0.95197, -0.48246, -0.61113, ...,  0.88113,  1.2247 ,      nan]])"
      ]
     },
     "execution_count": 71,
     "metadata": {},
     "output_type": "execute_result"
    }
   ],
   "source": [
    "drug_data[:,1:14]"
   ]
  },
  {
   "cell_type": "code",
   "execution_count": 72,
   "metadata": {},
   "outputs": [],
   "source": [
    "drug_data=drug_data[:,1:13] #cutting class and missing entries"
   ]
  },
  {
   "cell_type": "code",
   "execution_count": 62,
   "metadata": {},
   "outputs": [
    {
     "data": {
      "text/plain": [
       "(1885, 12)"
      ]
     },
     "execution_count": 62,
     "metadata": {},
     "output_type": "execute_result"
    }
   ],
   "source": [
    "shape(drug_data)"
   ]
  },
  {
   "cell_type": "markdown",
   "metadata": {},
   "source": [
    "**1. GC optimal dimensionality reduction and precision**"
   ]
  },
  {
   "cell_type": "code",
   "execution_count": 73,
   "metadata": {},
   "outputs": [
    {
     "data": {
      "text/plain": [
       "(22, 11, None)"
      ]
     },
     "execution_count": 73,
     "metadata": {},
     "output_type": "execute_result"
    },
    {
     "data": {
      "image/png": "[encoded data removed]",
      "text/plain": [
       "<Figure size 432x288 with 1 Axes>"
      ]
     },
     "metadata": {
      "needs_background": "light"
     },
     "output_type": "display_data"
    }
   ],
   "source": [
    "precision(drug_data,5),GC_optk(drug_data,precision(drug_data,5)),GC_s(drug_data)"
   ]
  },
  {
   "cell_type": "markdown",
   "metadata": {},
   "source": [
    "**2. Scree plot and algorithms-comparing**"
   ]
  },
  {
   "cell_type": "code",
   "execution_count": 77,
   "metadata": {
    "scrolled": true
   },
   "outputs": [
    {
     "name": "stdout",
     "output_type": "stream",
     "text": [
      "knee 3.0\n",
      "Minka Complexity 11\n",
      "Tavory Complexity 10\n",
      "Geometric Complexity 11\n"
     ]
    },
    {
     "data": {
      "image/png": "[encoded data removed]",
      "text/plain": [
       "<Figure size 432x288 with 1 Axes>"
      ]
     },
     "metadata": {
      "needs_background": "light"
     },
     "output_type": "display_data"
    }
   ],
   "source": [
    "PCA_test(drug_data,s=22)"
   ]
  },
  {
   "cell_type": "markdown",
   "metadata": {},
   "source": [
    "**3. Optimal dimensionality in function of data-length N**"
   ]
  },
  {
   "cell_type": "code",
   "execution_count": 78,
   "metadata": {
    "scrolled": true
   },
   "outputs": [
    {
     "data": {
      "text/plain": [
       "(1885, 12)"
      ]
     },
     "execution_count": 78,
     "metadata": {},
     "output_type": "execute_result"
    }
   ],
   "source": [
    "shape(drug_data)"
   ]
  },
  {
   "cell_type": "code",
   "execution_count": 81,
   "metadata": {},
   "outputs": [
    {
     "data": {
      "image/png": "[encoded data removed]",
      "text/plain": [
       "<Figure size 432x288 with 1 Axes>"
      ]
     },
     "metadata": {
      "needs_background": "light"
     },
     "output_type": "display_data"
    }
   ],
   "source": [
    "PCA_datalen(drug_data,num=50,s=22)"
   ]
  },
  {
   "cell_type": "markdown",
   "metadata": {},
   "source": [
    "**4. Optimal dimensionality in function of data-features d**"
   ]
  },
  {
   "cell_type": "code",
   "execution_count": 84,
   "metadata": {},
   "outputs": [
    {
     "data": {
      "image/png": "[encoded data removed]",
      "text/plain": [
       "<Figure size 432x288 with 1 Axes>"
      ]
     },
     "metadata": {
      "needs_background": "light"
     },
     "output_type": "display_data"
    }
   ],
   "source": [
    "PCA_datafeat(drug_data,s=22)"
   ]
  },
  {
   "cell_type": "markdown",
   "metadata": {},
   "source": [
    "<a id=music_data></a>\n",
    "### [Music data - source and description](https://archive.ics.uci.edu/ml/datasets/Geographical+Original+of+Music) [$\\tiny\\triangle$](#test_data)"
   ]
  },
  {
   "cell_type": "code",
   "execution_count": null,
   "metadata": {},
   "outputs": [],
   "source": [
    "#loading data\n",
    "music_path='Data/default_features_1059_tracks.txt'\n",
    "music_data = genfromtxt(music_path, delimiter=',')\n",
    "ms=open(music_path,'r')\n",
    "#print(ms.read())\n",
    "ms.close()"
   ]
  },
  {
   "cell_type": "code",
   "execution_count": 89,
   "metadata": {
    "scrolled": true
   },
   "outputs": [
    {
     "data": {
      "text/plain": [
       "(1059, 70)"
      ]
     },
     "execution_count": 89,
     "metadata": {},
     "output_type": "execute_result"
    }
   ],
   "source": [
    "shape(music_data)"
   ]
  },
  {
   "cell_type": "code",
   "execution_count": 90,
   "metadata": {
    "scrolled": true
   },
   "outputs": [],
   "source": [
    "music_datacut=music_data[:,:68]#last two features have very different precision "
   ]
  },
  {
   "cell_type": "markdown",
   "metadata": {},
   "source": [
    "**1. GC optimal dimensionality reduction and precision**"
   ]
  },
  {
   "cell_type": "code",
   "execution_count": 93,
   "metadata": {},
   "outputs": [
    {
     "data": {
      "text/plain": [
       "(27, 21, None)"
      ]
     },
     "execution_count": 93,
     "metadata": {},
     "output_type": "execute_result"
    },
    {
     "data": {
      "image/png": "[encoded data removed]",
      "text/plain": [
       "<Figure size 432x288 with 1 Axes>"
      ]
     },
     "metadata": {
      "needs_background": "light"
     },
     "output_type": "display_data"
    }
   ],
   "source": [
    "precision(music_datacut,6,b=1),GC_optk(music_datacut,precision(music_datacut,6,b=1)),GC_s(music_datacut)"
   ]
  },
  {
   "cell_type": "markdown",
   "metadata": {},
   "source": [
    "**2. Scree plot and algorithms-comparing**"
   ]
  },
  {
   "cell_type": "code",
   "execution_count": 94,
   "metadata": {
    "scrolled": true
   },
   "outputs": [
    {
     "name": "stdout",
     "output_type": "stream",
     "text": [
      "knee 10.0\n",
      "Minka Complexity 67\n",
      "Tavory Complexity 66\n",
      "Geometric Complexity 21\n"
     ]
    },
    {
     "data": {
      "image/png": "[encoded data removed]",
      "text/plain": [
       "<Figure size 432x288 with 1 Axes>"
      ]
     },
     "metadata": {
      "needs_background": "light"
     },
     "output_type": "display_data"
    }
   ],
   "source": [
    "PCA_test(music_datacut,s=27)"
   ]
  },
  {
   "cell_type": "markdown",
   "metadata": {},
   "source": [
    "**3. Optimal dimensionality in function of data-length N**"
   ]
  },
  {
   "cell_type": "code",
   "execution_count": 95,
   "metadata": {
    "scrolled": true
   },
   "outputs": [
    {
     "data": {
      "text/plain": [
       "(1059, 68)"
      ]
     },
     "execution_count": 95,
     "metadata": {},
     "output_type": "execute_result"
    }
   ],
   "source": [
    "shape(music_datacut)"
   ]
  },
  {
   "cell_type": "code",
   "execution_count": 97,
   "metadata": {},
   "outputs": [
    {
     "data": {
      "image/png": "[encoded data removed]",
      "text/plain": [
       "<Figure size 432x288 with 1 Axes>"
      ]
     },
     "metadata": {
      "needs_background": "light"
     },
     "output_type": "display_data"
    }
   ],
   "source": [
    "PCA_datalen(music_datacut,num=50,s=27)"
   ]
  },
  {
   "cell_type": "markdown",
   "metadata": {},
   "source": [
    "**4. Optimal dimensionality in function of data-features d**"
   ]
  },
  {
   "cell_type": "code",
   "execution_count": 99,
   "metadata": {
    "scrolled": true
   },
   "outputs": [
    {
     "data": {
      "image/png": "[encoded data removed]",
      "text/plain": [
       "<Figure size 432x288 with 1 Axes>"
      ]
     },
     "metadata": {
      "needs_background": "light"
     },
     "output_type": "display_data"
    }
   ],
   "source": [
    "PCA_datafeat(music_datacut,num=5,s=27)"
   ]
  },
  {
   "cell_type": "markdown",
   "metadata": {},
   "source": [
    "<font color=blue> We are now going to analyze the same dataset including the two features with different precision and using the function ```data_int()``` for pre-processing the data and determining the parameter s.</font>\n",
    "\n",
    "I.e. we rescale the covariance matrix s.t. every features is written as multiple of a fundamental precision -- 1e6 for the first 68 features, 1e2 for the last 2. We are then going to analyse the resulting integers-matrix. We remark that the optimal-dimensionalities computed via Tavory and Minka algorithms o the original matrix and on the rescaled one are equivalent."
   ]
  },
  {
   "cell_type": "code",
   "execution_count": 106,
   "metadata": {},
   "outputs": [],
   "source": [
    "music_data = genfromtxt(music_path, delimiter=',')\n",
    "\n",
    "music_dataint=music_data[:]\n",
    "music_dataint[:,:68]=music_dataint[:,:68]*1e6\n",
    "music_dataint[:,69:]=music_dataint[:,69:]*1e2\n",
    "music_dataint\n",
    "\n",
    "music_dataint=data_int(music_dataint,1)"
   ]
  },
  {
   "cell_type": "markdown",
   "metadata": {},
   "source": [
    "**1. GC optimal dimensionality reduction and precision**"
   ]
  },
  {
   "cell_type": "code",
   "execution_count": 107,
   "metadata": {},
   "outputs": [
    {
     "data": {
      "text/plain": [
       "(27, 22, None)"
      ]
     },
     "execution_count": 107,
     "metadata": {},
     "output_type": "execute_result"
    },
    {
     "data": {
      "image/png": "[encoded data removed]",
      "text/plain": [
       "<Figure size 432x288 with 1 Axes>"
      ]
     },
     "metadata": {
      "needs_background": "light"
     },
     "output_type": "display_data"
    }
   ],
   "source": [
    "precision(music_dataint,0,b=1),GC_optk(music_dataint,precision(music_dataint,0,b=1)),GC_s(music_dataint)"
   ]
  },
  {
   "cell_type": "markdown",
   "metadata": {},
   "source": [
    "**2. Scree plot and algorithms-comparing**"
   ]
  },
  {
   "cell_type": "code",
   "execution_count": 108,
   "metadata": {
    "scrolled": true
   },
   "outputs": [
    {
     "name": "stdout",
     "output_type": "stream",
     "text": [
      "knee 10.0\n",
      "Minka Complexity 69\n",
      "Tavory Complexity 68\n",
      "Geometric Complexity 22\n"
     ]
    },
    {
     "data": {
      "image/png": "[encoded data removed]",
      "text/plain": [
       "<Figure size 432x288 with 1 Axes>"
      ]
     },
     "metadata": {
      "needs_background": "light"
     },
     "output_type": "display_data"
    }
   ],
   "source": [
    "PCA_test(music_dataint,s=27)"
   ]
  },
  {
   "cell_type": "markdown",
   "metadata": {},
   "source": [
    "**3. Optimal dimensionality in function of data-length N**"
   ]
  },
  {
   "cell_type": "code",
   "execution_count": 110,
   "metadata": {
    "scrolled": true
   },
   "outputs": [
    {
     "data": {
      "text/plain": [
       "(1059, 70)"
      ]
     },
     "execution_count": 110,
     "metadata": {},
     "output_type": "execute_result"
    }
   ],
   "source": [
    "shape(music_dataint)"
   ]
  },
  {
   "cell_type": "code",
   "execution_count": 111,
   "metadata": {},
   "outputs": [
    {
     "data": {
      "image/png": "[encoded data removed]",
      "text/plain": [
       "<Figure size 432x288 with 1 Axes>"
      ]
     },
     "metadata": {
      "needs_background": "light"
     },
     "output_type": "display_data"
    }
   ],
   "source": [
    "PCA_datalen(music_dataint,num=20,s=27)"
   ]
  },
  {
   "cell_type": "markdown",
   "metadata": {},
   "source": [
    "**4. Optimal dimensionality in function of data-features d**"
   ]
  },
  {
   "cell_type": "code",
   "execution_count": 113,
   "metadata": {},
   "outputs": [
    {
     "data": {
      "image/png": "[encoded data removed]",
      "text/plain": [
       "<Figure size 432x288 with 1 Axes>"
      ]
     },
     "metadata": {
      "needs_background": "light"
     },
     "output_type": "display_data"
    }
   ],
   "source": [
    "PCA_datafeat(music_dataint,s=27)"
   ]
  },
  {
   "cell_type": "markdown",
   "metadata": {},
   "source": [
    "<a id=ceramic_data></a>\n",
    "### [Ceramic composition data - source and description](https://archive.ics.uci.edu/ml/datasets/Chemical+Composition+of+Ceramic+Samples) [$\\tiny\\triangle$](#test_data)"
   ]
  },
  {
   "cell_type": "code",
   "execution_count": null,
   "metadata": {
    "scrolled": true
   },
   "outputs": [],
   "source": [
    "#loading data\n",
    "ceramic_path='Data/Chemical_Composion_Ceramic.csv'\n",
    "ceramic_data = genfromtxt(ceramic_path, delimiter=',')\n",
    "cer=open(ceramic_path,'r')\n",
    "#print(cer.read())\n",
    "cer.close()"
   ]
  },
  {
   "cell_type": "markdown",
   "metadata": {},
   "source": [
    "**Data pre-processing**"
   ]
  },
  {
   "cell_type": "code",
   "execution_count": 115,
   "metadata": {},
   "outputs": [],
   "source": [
    "#add ppm (*1e-4) from MnO on\n",
    "#separating body-glaze in two distinct dataset\n",
    "#removing classes"
   ]
  },
  {
   "cell_type": "code",
   "execution_count": 116,
   "metadata": {},
   "outputs": [],
   "source": [
    "ceramic_dataint=ceramic_data[:]#dataset cloning\n",
    "ceramic_dataint=ceramic_dataint[1:]#reoving labelling\n",
    "for i in range(2,10):\n",
    "    ceramic_dataint[:,i]=ceramic_dataint[:,i]*1e2\n",
    "ceramic_dataint_body=ceramic_dataint[:44,2:]\n",
    "ceramic_dataint_body=data_int(ceramic_dataint_body,1)\n",
    "ceramic_dataint_glaze=ceramic_dataint[44:,2:]\n",
    "ceramic_dataint_glaze=data_int(ceramic_dataint_glaze,1)"
   ]
  },
  {
   "cell_type": "markdown",
   "metadata": {},
   "source": [
    "**1. GC optimal dimensionality reduction and precision**"
   ]
  },
  {
   "cell_type": "code",
   "execution_count": 124,
   "metadata": {},
   "outputs": [
    {
     "data": {
      "text/plain": [
       "(10, 4, None)"
      ]
     },
     "execution_count": 124,
     "metadata": {},
     "output_type": "execute_result"
    },
    {
     "data": {
      "image/png": "[encoded data removed]",
      "text/plain": [
       "<Figure size 432x288 with 1 Axes>"
      ]
     },
     "metadata": {
      "needs_background": "light"
     },
     "output_type": "display_data"
    }
   ],
   "source": [
    "precision(ceramic_dataint_body,0),GC_optk(ceramic_dataint_body,precision(ceramic_dataint_body,0)),GC_s(ceramic_dataint_body)"
   ]
  },
  {
   "cell_type": "code",
   "execution_count": 122,
   "metadata": {},
   "outputs": [
    {
     "data": {
      "text/plain": [
       "(11, 6, None)"
      ]
     },
     "execution_count": 122,
     "metadata": {},
     "output_type": "execute_result"
    },
    {
     "data": {
      "image/png": "[encoded data removed]",
      "text/plain": [
       "<Figure size 432x288 with 1 Axes>"
      ]
     },
     "metadata": {
      "needs_background": "light"
     },
     "output_type": "display_data"
    }
   ],
   "source": [
    "precision(ceramic_dataint_glaze,0),GC_optk(ceramic_dataint_glaze,precision(ceramic_dataint_glaze,0)),GC_s(ceramic_dataint_glaze)"
   ]
  },
  {
   "cell_type": "markdown",
   "metadata": {},
   "source": [
    "**2. Scree plot and algorithms-comparing**"
   ]
  },
  {
   "cell_type": "code",
   "execution_count": 125,
   "metadata": {
    "scrolled": true
   },
   "outputs": [
    {
     "name": "stdout",
     "output_type": "stream",
     "text": [
      "knee 2.0\n",
      "Minka Complexity 16\n",
      "Tavory Complexity 15\n",
      "Geometric Complexity 7\n"
     ]
    },
    {
     "data": {
      "image/png": "[encoded data removed]",
      "text/plain": [
       "<Figure size 432x288 with 1 Axes>"
      ]
     },
     "metadata": {
      "needs_background": "light"
     },
     "output_type": "display_data"
    }
   ],
   "source": [
    "PCA_test(ceramic_dataint_body,s=8)"
   ]
  },
  {
   "cell_type": "code",
   "execution_count": 123,
   "metadata": {},
   "outputs": [
    {
     "name": "stdout",
     "output_type": "stream",
     "text": [
      "knee 3.0\n",
      "Minka Complexity 16\n",
      "Tavory Complexity 15\n",
      "Geometric Complexity 6\n"
     ]
    },
    {
     "data": {
      "image/png": "[encoded data removed]",
      "text/plain": [
       "<Figure size 432x288 with 1 Axes>"
      ]
     },
     "metadata": {
      "needs_background": "light"
     },
     "output_type": "display_data"
    }
   ],
   "source": [
    "PCA_test(ceramic_dataint_glaze,s=11)"
   ]
  },
  {
   "cell_type": "markdown",
   "metadata": {},
   "source": [
    "**3. Optimal dimensionality in function of data-length N**"
   ]
  },
  {
   "cell_type": "code",
   "execution_count": 126,
   "metadata": {
    "scrolled": true
   },
   "outputs": [
    {
     "data": {
      "text/plain": [
       "((44, 17), (44, 17))"
      ]
     },
     "execution_count": 126,
     "metadata": {},
     "output_type": "execute_result"
    }
   ],
   "source": [
    "shape(ceramic_dataint_body),shape(ceramic_dataint_glaze)"
   ]
  },
  {
   "cell_type": "code",
   "execution_count": 127,
   "metadata": {},
   "outputs": [
    {
     "data": {
      "image/png": "[encoded data removed]",
      "text/plain": [
       "<Figure size 432x288 with 1 Axes>"
      ]
     },
     "metadata": {
      "needs_background": "light"
     },
     "output_type": "display_data"
    }
   ],
   "source": [
    "PCA_datalen(ceramic_dataint_body,s=8)"
   ]
  },
  {
   "cell_type": "code",
   "execution_count": 128,
   "metadata": {},
   "outputs": [
    {
     "data": {
      "image/png": "[encoded data removed]",
      "text/plain": [
       "<Figure size 432x288 with 1 Axes>"
      ]
     },
     "metadata": {
      "needs_background": "light"
     },
     "output_type": "display_data"
    }
   ],
   "source": [
    "PCA_datalen(ceramic_dataint_glaze,s=11)"
   ]
  },
  {
   "cell_type": "markdown",
   "metadata": {},
   "source": [
    "**4. Optimal dimensionality in function of data-features d**"
   ]
  },
  {
   "cell_type": "code",
   "execution_count": 129,
   "metadata": {},
   "outputs": [
    {
     "data": {
      "image/png": "[encoded data removed]",
      "text/plain": [
       "<Figure size 432x288 with 1 Axes>"
      ]
     },
     "metadata": {
      "needs_background": "light"
     },
     "output_type": "display_data"
    }
   ],
   "source": [
    "PCA_datafeat(ceramic_dataint_body,s=8)"
   ]
  },
  {
   "cell_type": "code",
   "execution_count": 130,
   "metadata": {},
   "outputs": [
    {
     "data": {
      "image/png": "[encoded data removed]",
      "text/plain": [
       "<Figure size 432x288 with 1 Axes>"
      ]
     },
     "metadata": {
      "needs_background": "light"
     },
     "output_type": "display_data"
    }
   ],
   "source": [
    "PCA_datafeat(ceramic_dataint_glaze,s=11)"
   ]
  },
  {
   "cell_type": "markdown",
   "metadata": {},
   "source": [
    "<a id=conclusion></a>\n",
    "# Comments and future work [$\\diamond$](#TC)\n",
    "<hr>\n",
    "<hr>\n",
    "- The *Geometric Complexity algorithm* (GC-alg.), in general underestimates the optimal dimensionality reduction with respect to the two existing algorithms of Tavory and Minka. Indeed, in the GC_alg. the model length that plays an important role in the two-part-code optimisation. When the model is more complex -- high data-precision for example, i.e. high s -- more the model-code-legth weighs in the total code-length. Indeed in general Minka's and/or Tavory's results are recovered for low s by the GC-alg.\n",
    "\n",
    "- We gave and euristic procedure for determining the s-parameter, which deserves furter tests. For example, by using the ```data_Tavory()``` and changing the noise-variance.\n",
    "\n",
    "- The GC-algorithm has a slower convergence to a 'stable' value for the optimal-dimensionality in function of the dataset-dimesion as seen in the plots (3) and (4), result that justifies the relevant underestimation obtained for small dataset. The algorithm deserves further tests on higher-dimension datasets."
   ]
  },
  {
   "cell_type": "markdown",
   "metadata": {},
   "source": [
    "<a id=appendix></a>\n",
    "# <font color=grey> Appendix </font> [$\\diamond$](#TC)\n",
    "\n",
    "## Data-processing routine"
   ]
  },
  {
   "cell_type": "markdown",
   "metadata": {},
   "source": [
    "**1. GC optimal dimensionality reduction and precision**"
   ]
  },
  {
   "cell_type": "code",
   "execution_count": null,
   "metadata": {},
   "outputs": [],
   "source": [
    "precision(data,sign),GC_optk(data,precision(data,sign)),GC_s(data)"
   ]
  },
  {
   "cell_type": "markdown",
   "metadata": {},
   "source": [
    "**2. Scree plot and algorithms-comparing**"
   ]
  },
  {
   "cell_type": "code",
   "execution_count": null,
   "metadata": {
    "scrolled": true
   },
   "outputs": [],
   "source": [
    "PCA_test(data,s=)"
   ]
  },
  {
   "cell_type": "markdown",
   "metadata": {},
   "source": [
    "**3. Optimal dimensionality in function of data-length N**"
   ]
  },
  {
   "cell_type": "code",
   "execution_count": null,
   "metadata": {
    "scrolled": true
   },
   "outputs": [],
   "source": [
    "shape(data)"
   ]
  },
  {
   "cell_type": "code",
   "execution_count": null,
   "metadata": {},
   "outputs": [],
   "source": [
    "PCA_datalen(data,num=,s=)"
   ]
  },
  {
   "cell_type": "markdown",
   "metadata": {},
   "source": [
    "**4. Optimal dimensionality in function of data-features d**"
   ]
  },
  {
   "cell_type": "code",
   "execution_count": null,
   "metadata": {},
   "outputs": [],
   "source": [
    "PCA_datafeat(data,num=,s=)"
   ]
  },
  {
   "cell_type": "code",
   "execution_count": null,
   "metadata": {},
   "outputs": [],
   "source": []
  },
  {
   "cell_type": "markdown",
   "metadata": {},
   "source": [
    "## Plus-minus test /24N test"
   ]
  },
  {
   "cell_type": "code",
   "execution_count": 33,
   "metadata": {},
   "outputs": [],
   "source": [
    "def GC_optk_test(data,s=64,b=0):\n",
    "    \n",
    "    def sum_logf(length):\n",
    "        '''Return a list of given length whose entries are:\n",
    "           list[i-1]=sum_a=1^i(np.log(a)+np.log(gamma(a/2)))'''\n",
    "        sumlog_vec=[]\n",
    "        sumlog1=0\n",
    "        for a in range(1,length): \n",
    "            sumlog1=sumlog1+np.log(a)+lgm(a/2)\n",
    "            sumlog_vec.append(sumlog1)\n",
    "        return sumlog_vec\n",
    "    \n",
    "    def log_gauss(N,d,k,lambdas,Sw):\n",
    "    \n",
    "        'lambdas=pca.explained_variance_'\n",
    "        #k=k-1\n",
    "        if k==d:\n",
    "            lambda_bar=1\n",
    "        else:\n",
    "            lambda_bar=sum(lambdas[k:])/(d-k)\n",
    "        #print('k:',k,'lambda_bar',lambda_bar)   \n",
    "        Q=np.diag([1/eig for eig in lambdas[:k]]+[1/lambda_bar for i in range(k,d)])\n",
    "        r=d*np.log(2*np.pi)\n",
    "        r=r+sum(np.log(lambdas[:k])) #kth-eigen included\n",
    "        r=r+(d-k)*np.log(lambda_bar)\n",
    "        r=r+np.trace(Q@Sw)\n",
    "        return r*N/2\n",
    "    \n",
    "    zm_data=zeromean(data)\n",
    "    pca = PCA().fit(zm_data)\n",
    "    dimrange=pca.components_.shape[0] #number of features\n",
    "    N=zm_data.shape[0] #number of instances\n",
    "    if (dimrange != zm_data.shape[1]):\n",
    "            print(\"attributes have linear dependencies, ther is a non-trivial kernel in the covariance matrix\")\n",
    "            print(\"Solution: remove dependent variables eg: averages over the variables\")\n",
    "            return \"error\";\n",
    "    rotdata=changebasis(zm_data,pca.components_)\n",
    "    optd=-1;\n",
    "    optscore=np.Infinity\n",
    "    S=np.matmul(rotdata.T,rotdata)\n",
    "    sumlog_vec=sum_logf(dimrange+1)\n",
    "    for m in range(1,dimrange+1):\n",
    "        r=log_gauss(N,dimrange,m, pca.explained_variance_,S)\n",
    "        r=r+m*(m+1)/4*np.log(N/(2*np.pi)) #a\n",
    "        r=r+(-1)*b*m*(m+2)*(m-1)/(24*N) #b\n",
    "        r=r-m/2*np.log(2)+m*(m+1)/4*np.log(np.pi) #c\n",
    "        sumlog=sumlog_vec[m-1]\n",
    "        r=r-sumlog\n",
    "        r=r+m*np.log(s*np.log(2))+(2*s+1)*m*(m-1)/4*np.log(2) \n",
    "        if(r<optscore):\n",
    "            optd=m;  \n",
    "            optscore=r\n",
    "    \n",
    "    return optd"
   ]
  },
  {
   "cell_type": "code",
   "execution_count": 76,
   "metadata": {},
   "outputs": [],
   "source": [
    "def PCA_datalen_test(data, num=1, s=64, vec=0, Nmax=0):\n",
    "    \n",
    "    '''INPUT data-matrix Nxd, integer num, integer s\n",
    "    OUTPUT plot of the optimal dimensionality reduction obtained with the three algorithms -- Minka, Tavory-NML,\n",
    "    Geometric Complexity -- in function of the dimension of the dataset. \n",
    "    Options The integer num indicate the interval between two different evaluations and s is the precision parameter\n",
    "    for the Geometric Complexity algorithm.'''\n",
    "    \n",
    "    zmdata=zeromean(data)\n",
    "    data_pca=PCA().fit(X=data)\n",
    "    gc_k=[]\n",
    "    gc_k1=[]\n",
    "    if Nmax==0:\n",
    "        Nmax=shape(zmdata)[0]\n",
    "    for i in range(shape(zmdata)[1]+1,Nmax+1,num):\n",
    "    #for i in range(shape(zmdata)[1]+1,shape(zmdata)[0]+1,num):\n",
    "        gc=GC_optk_test(zmdata[:i],s)\n",
    "        gc_k.append(gc)\n",
    "        gc1=GC_optk_test(zmdata[:i],s,b=1)\n",
    "        gc_k1.append(gc1)\n",
    "    plot(gc_k, 'x', markersize=5,label='GC plus',color=\"blue\")\n",
    "    plot(gc_k1, '.', markersize=5,label='GC minus',color=\"red\")\n",
    "\n",
    "    legend();\n",
    "    xlabel('Number of instances').set_color('black');\n",
    "    ylabel('Reduced dimension').set_color('black');\n",
    "    if vec==1:\n",
    "        return gc_k,gc_k1"
   ]
  },
  {
   "cell_type": "code",
   "execution_count": 77,
   "metadata": {
    "scrolled": false
   },
   "outputs": [
    {
     "data": {
      "image/png": "[encoded data removed]",
      "text/plain": [
       "<Figure size 432x288 with 1 Axes>"
      ]
     },
     "metadata": {
      "needs_background": "light"
     },
     "output_type": "display_data"
    }
   ],
   "source": [
    "PCA_datalen_test(my_data, num=1, s=15, vec=0)"
   ]
  },
  {
   "cell_type": "code",
   "execution_count": 51,
   "metadata": {},
   "outputs": [
    {
     "data": {
      "text/plain": [
       "(208, 61)"
      ]
     },
     "execution_count": 51,
     "metadata": {},
     "output_type": "execute_result"
    }
   ],
   "source": [
    "shape(my_data)"
   ]
  },
  {
   "cell_type": "code",
   "execution_count": 78,
   "metadata": {},
   "outputs": [
    {
     "data": {
      "image/png": "[encoded data removed]",
      "text/plain": [
       "<Figure size 432x288 with 1 Axes>"
      ]
     },
     "metadata": {
      "needs_background": "light"
     },
     "output_type": "display_data"
    }
   ],
   "source": [
    "PCA_datalen_test(my_data, num=1, s=20, vec=0, Nmax=69)"
   ]
  },
  {
   "cell_type": "markdown",
   "metadata": {},
   "source": [
    "<a id=list_functions></a>\n",
    "# <font color=grey> List of functions</font> [$\\diamond$](#TC)\n",
    "\n",
    "- [```changebasis(data, components)```](#data_matrix_rot)\n",
    "- [```data_int(data,order)```](#data_precision)\n",
    "- [```data_Tavory(data,k,tau)```](#partial_dataset)\n",
    "- [```GC_optk(data,s=64)```](#GC_optk)\n",
    "- [```GC_s(data)```](#GC_s)\n",
    "- [```GC_table(data,s=64,table=False)```](#GC_table)\n",
    "- [```Minka_optk(data)```](#Minka_f)\n",
    "- [```nml_optk(data)```](#Tavory)\n",
    "- [```PCA_datafeat(data, num=1, minka=1, tavory=1, GC=1, s=64)```](#PCA_datafeat)\n",
    "- [```PCA_datalen(data, num=1, minka=1, tavory=1, GC=1, s=64)```](#PCA_datalen)\n",
    "- [```PCA_test(data, knee=1, rounds=10, minka=1, tavory=1, GC=1, s=64)```](#PCA_test)\n",
    "- [```precision(data,sign_digits,b=0)```](#data_precision)\n",
    "- [```zeromean(data)```](#zero_mean)\n",
    "\n"
   ]
  },
  {
   "cell_type": "code",
   "execution_count": 34,
   "metadata": {},
   "outputs": [],
   "source": [
    "?PCA_test"
   ]
  },
  {
   "cell_type": "markdown",
   "metadata": {},
   "source": [
    "<a id=References></a>\n",
    "# <font color=grey> References</font> [$\\diamond$](#TC)\n",
    "\n",
    "Data repository [https://archive.ics.uci.edu/ml/index.php](https://archive.ics.uci.edu/ml/index.php)"
   ]
  },
  {
   "cell_type": "markdown",
   "metadata": {},
   "source": [
    "<a id=Minka></a>[[Minka2000]](https://papers.nips.cc/paper/2000/file/7503cfacd12053d309b6bed5c89de212-Paper.pdf) Minka, Thomas P. \"Automatic choice of dimensionality for PCA.\" Nips. Vol. 13. 2000.\n",
    "\n",
    "<a id=kneedle>[Satopaa2011]</a> Ville Satopaa, Jeannie R. Albrecht, David E. Irwin, and Barath Raghavan. Finding\n",
    "a \"kneedle\" in a haystack: Detecting knee points in system behavior. In 31st IEEE\n",
    "International Conference on Distributed Computing Systems Workshops (ICDCS\n",
    "2011 Workshops), 20-24 June 2011, Minneapolis, Minnesota, USA, pages 166{171,\n",
    "2011.\n",
    "\n",
    "<a id=tavory></a>[[Tavory2019]](https://arxiv.org/abs/1901.00059) Tavory, Ami. Determining Principal Component Cardinality Through the Principle of Minimum Description Length. International Conference on Machine Learning, Optimization, and Data Science. Springer, Cham, 2019.\n",
    "\n",
    "<a id=Paulo></a>[[Mera&al.2020]](https://dev.arxiv.org/abs/2007.02904?context=math) Mera, Bruno, Mateus, Paulo, and Carvalho, Alexandra M.. \"On the minmax regret for statistical manifolds: the role of curvature.\" arXiv preprint arXiv:2007.02904 (2020)."
   ]
  },
  {
   "cell_type": "code",
   "execution_count": null,
   "metadata": {},
   "outputs": [],
   "source": []
  }
 ],
 "metadata": {
  "kernelspec": {
   "display_name": "Python 3",
   "language": "python",
   "name": "python3"
  },
  "language_info": {
   "codemirror_mode": {
    "name": "ipython",
    "version": 3
   },
   "file_extension": ".py",
   "mimetype": "text/x-python",
   "name": "python",
   "nbconvert_exporter": "python",
   "pygments_lexer": "ipython3",
   "version": "3.8.3"
  }
 },
 "nbformat": 4,
 "nbformat_minor": 4
}
